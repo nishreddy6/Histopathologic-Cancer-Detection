{
 "cells": [
  {
   "cell_type": "markdown",
   "metadata": {},
   "source": [
    "# Predicting on test dataset using the model trained above"
   ]
  },
  {
   "cell_type": "code",
   "execution_count": 2,
   "metadata": {},
   "outputs": [
    {
     "name": "stdout",
     "output_type": "stream",
     "text": [
      "Collecting opencv-python\n",
      "  Downloading opencv_python-4.5.4.60-cp38-cp38-macosx_10_15_x86_64.whl (45.9 MB)\n",
      "\u001b[K     |████████████████████████████████| 45.9 MB 558 kB/s eta 0:00:0126     |████▌                           | 6.5 MB 1.6 MB/s eta 0:00:25     |██████▌                         | 9.3 MB 1.6 MB/s eta 0:00:23     |████████████▎                   | 17.6 MB 7.0 MB/s eta 0:00:05     |█████████████████████████       | 35.8 MB 5.5 MB/s eta 0:00:02\n",
      "\u001b[?25hRequirement already satisfied: numpy>=1.17.3 in /Users/nishithareddy/opt/anaconda3/lib/python3.8/site-packages (from opencv-python) (1.19.2)\n",
      "Installing collected packages: opencv-python\n",
      "Successfully installed opencv-python-4.5.4.60\n",
      "Note: you may need to restart the kernel to use updated packages.\n"
     ]
    }
   ],
   "source": [
    "pip install opencv-python"
   ]
  },
  {
   "cell_type": "code",
   "execution_count": 3,
   "metadata": {},
   "outputs": [],
   "source": [
    "from keras.models import load_model\n",
    "from keras.preprocessing import image\n",
    "import numpy as np\n",
    "from tensorflow.keras import optimizers\n",
    "import cv2\n",
    "import os\n",
    "import csv"
   ]
  },
  {
   "cell_type": "code",
   "execution_count": 4,
   "metadata": {},
   "outputs": [],
   "source": [
    "#Loading in the best model that we came up with\n",
    "from keras import models\n",
    "\n",
    "model = models.load_model('tumor_and_nontumor.best.h5')"
   ]
  },
  {
   "cell_type": "code",
   "execution_count": 5,
   "metadata": {},
   "outputs": [],
   "source": [
    "#load the model we saved\n",
    "model = load_model('tumor_and_nontumor.Best.h5')\n",
    "model.compile(loss='binary_crossentropy',\n",
    "              optimizer='rmsprop',\n",
    "              metrics=['accuracy'])"
   ]
  },
  {
   "cell_type": "code",
   "execution_count": 9,
   "metadata": {},
   "outputs": [],
   "source": [
    "#Multiple images loading\n",
    "img_width, img_height = 32,32\n",
    "folder_path = '/Users/nishithareddy/Desktop/histopathologic-cancer-detection/test'\n",
    "images = {}\n",
    "for img in os.listdir(folder_path):\n",
    "#     sample = {}\n",
    "    img = os.path.join(folder_path, img)\n",
    "    head, tail = os.path.split(img)\n",
    "    filename = tail.split('.')[0]\n",
    "    img = image.load_img(img, target_size=(img_width, img_height))\n",
    "    img = image.img_to_array(img)\n",
    "    img = np.expand_dims(img, axis=0)\n",
    "    classes = model.predict(img, batch_size=5)\n",
    "    images[filename] = int(classes[0][0])"
   ]
  },
  {
   "cell_type": "code",
   "execution_count": 10,
   "metadata": {},
   "outputs": [],
   "source": [
    "with open('cancer.csv', 'w',encoding=\"ISO-8859-1\", newline='') as csv_file:  \n",
    "    writer = csv.writer(csv_file)\n",
    "    writer.writerow((\"id\", \"label\"))\n",
    "    for key, value in images.items():\n",
    "        writer.writerow([key, value])"
   ]
  }
 ],
 "metadata": {
  "kernelspec": {
   "display_name": "Python 3",
   "language": "python",
   "name": "python3"
  },
  "language_info": {
   "codemirror_mode": {
    "name": "ipython",
    "version": 3
   },
   "file_extension": ".py",
   "mimetype": "text/x-python",
   "name": "python",
   "nbconvert_exporter": "python",
   "pygments_lexer": "ipython3",
   "version": "3.8.5"
  }
 },
 "nbformat": 4,
 "nbformat_minor": 4
}
