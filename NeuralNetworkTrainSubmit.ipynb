{
 "cells": [
  {
   "cell_type": "code",
   "execution_count": 2,
   "metadata": {},
   "outputs": [],
   "source": [
    "import os, shutil"
   ]
  },
  {
   "cell_type": "code",
   "execution_count": 3,
   "metadata": {},
   "outputs": [],
   "source": [
    "#load train data\n",
    "original_dataset_dir = '/Users/nishithareddy/Desktop/histopathologic-cancer-detection/train'# This is the location of the data folder which has train and test subfolders"
   ]
  },
  {
   "cell_type": "code",
   "execution_count": 4,
   "metadata": {},
   "outputs": [],
   "source": [
    "base_dir = '/Users/nishithareddy/Desktop/histopathologic-cancer-detection/images_data' # This is the new folder location where we will copy our training images\n",
    "try:\n",
    "    os.mkdir(base_dir)\n",
    "except:\n",
    "    pass"
   ]
  },
  {
   "cell_type": "code",
   "execution_count": 5,
   "metadata": {},
   "outputs": [],
   "source": [
    "# Creating separate directories for training and validation dataset\n",
    "train_dir = os.path.join(base_dir, 'train')\n",
    "#os.mkdir(train_dir) (created once not needed)\n",
    "validation_dir = os.path.join(base_dir, 'validation')\n",
    "#os.mkdir(validation_dir) (created once not needed)\n"
   ]
  },
  {
   "cell_type": "code",
   "execution_count": 6,
   "metadata": {},
   "outputs": [],
   "source": [
    "# creating separate subfolders for each class i.e. tumor and non tumor for both training and validation datasets\n",
    "train_tumor_dir = os.path.join(train_dir, 'tumor')\n",
    "#os.mkdir(train_tumor_dir)\n",
    "train_nontumor_dir = os.path.join(train_dir, 'nontumor')\n",
    "#os.mkdir(train_nontumor_dir)\n",
    "validation_tumor_dir = os.path.join(validation_dir, 'tumor')\n",
    "#os.mkdir(validation_tumor_dir)\n",
    "validation_nontumor_dir = os.path.join(validation_dir, 'nontumor')\n",
    "#os.mkdir(validation_nontumor_dir)\n"
   ]
  },
  {
   "cell_type": "code",
   "execution_count": 7,
   "metadata": {},
   "outputs": [
    {
     "data": {
      "text/html": [
       "<div>\n",
       "<style scoped>\n",
       "    .dataframe tbody tr th:only-of-type {\n",
       "        vertical-align: middle;\n",
       "    }\n",
       "\n",
       "    .dataframe tbody tr th {\n",
       "        vertical-align: top;\n",
       "    }\n",
       "\n",
       "    .dataframe thead th {\n",
       "        text-align: right;\n",
       "    }\n",
       "</style>\n",
       "<table border=\"1\" class=\"dataframe\">\n",
       "  <thead>\n",
       "    <tr style=\"text-align: right;\">\n",
       "      <th></th>\n",
       "      <th>id</th>\n",
       "      <th>label</th>\n",
       "    </tr>\n",
       "  </thead>\n",
       "  <tbody>\n",
       "    <tr>\n",
       "      <th>0</th>\n",
       "      <td>f38a6374c348f90b587e046aac6079959adf3835</td>\n",
       "      <td>0</td>\n",
       "    </tr>\n",
       "    <tr>\n",
       "      <th>1</th>\n",
       "      <td>c18f2d887b7ae4f6742ee445113fa1aef383ed77</td>\n",
       "      <td>1</td>\n",
       "    </tr>\n",
       "    <tr>\n",
       "      <th>2</th>\n",
       "      <td>755db6279dae599ebb4d39a9123cce439965282d</td>\n",
       "      <td>0</td>\n",
       "    </tr>\n",
       "    <tr>\n",
       "      <th>3</th>\n",
       "      <td>bc3f0c64fb968ff4a8bd33af6971ecae77c75e08</td>\n",
       "      <td>0</td>\n",
       "    </tr>\n",
       "    <tr>\n",
       "      <th>4</th>\n",
       "      <td>068aba587a4950175d04c680d38943fd488d6a9d</td>\n",
       "      <td>0</td>\n",
       "    </tr>\n",
       "  </tbody>\n",
       "</table>\n",
       "</div>"
      ],
      "text/plain": [
       "                                         id  label\n",
       "0  f38a6374c348f90b587e046aac6079959adf3835      0\n",
       "1  c18f2d887b7ae4f6742ee445113fa1aef383ed77      1\n",
       "2  755db6279dae599ebb4d39a9123cce439965282d      0\n",
       "3  bc3f0c64fb968ff4a8bd33af6971ecae77c75e08      0\n",
       "4  068aba587a4950175d04c680d38943fd488d6a9d      0"
      ]
     },
     "execution_count": 7,
     "metadata": {},
     "output_type": "execute_result"
    }
   ],
   "source": [
    "# Reading training labels\n",
    "import pandas as pd\n",
    "\n",
    "train_labels = pd.read_csv(\"train_labels.csv\")\n",
    "train_labels.head()\n"
   ]
  },
  {
   "cell_type": "code",
   "execution_count": 8,
   "metadata": {},
   "outputs": [],
   "source": [
    "#separating tumoros and non tumoros data\n",
    "train_labels_tumor = train_labels[train_labels['label']==1]\n",
    "train_labels_nontumor = train_labels[train_labels['label']==0]\n",
    "\n",
    "\n",
    "train_labels_tumor.reset_index(inplace=True)\n",
    "train_labels_nontumor.reset_index(inplace=True)"
   ]
  },
  {
   "cell_type": "code",
   "execution_count": 9,
   "metadata": {},
   "outputs": [
    {
     "data": {
      "text/html": [
       "<div>\n",
       "<style scoped>\n",
       "    .dataframe tbody tr th:only-of-type {\n",
       "        vertical-align: middle;\n",
       "    }\n",
       "\n",
       "    .dataframe tbody tr th {\n",
       "        vertical-align: top;\n",
       "    }\n",
       "\n",
       "    .dataframe thead th {\n",
       "        text-align: right;\n",
       "    }\n",
       "</style>\n",
       "<table border=\"1\" class=\"dataframe\">\n",
       "  <thead>\n",
       "    <tr style=\"text-align: right;\">\n",
       "      <th></th>\n",
       "      <th>index</th>\n",
       "      <th>id</th>\n",
       "      <th>label</th>\n",
       "    </tr>\n",
       "  </thead>\n",
       "  <tbody>\n",
       "    <tr>\n",
       "      <th>0</th>\n",
       "      <td>1</td>\n",
       "      <td>c18f2d887b7ae4f6742ee445113fa1aef383ed77</td>\n",
       "      <td>1</td>\n",
       "    </tr>\n",
       "    <tr>\n",
       "      <th>1</th>\n",
       "      <td>6</td>\n",
       "      <td>a24ce148f6ffa7ef8eefb4efb12ebffe8dd700da</td>\n",
       "      <td>1</td>\n",
       "    </tr>\n",
       "    <tr>\n",
       "      <th>2</th>\n",
       "      <td>7</td>\n",
       "      <td>7f6ccae485af121e0b6ee733022e226ee6b0c65f</td>\n",
       "      <td>1</td>\n",
       "    </tr>\n",
       "    <tr>\n",
       "      <th>3</th>\n",
       "      <td>11</td>\n",
       "      <td>c3d660212bf2a11c994e0eadff13770a9927b731</td>\n",
       "      <td>1</td>\n",
       "    </tr>\n",
       "    <tr>\n",
       "      <th>4</th>\n",
       "      <td>14</td>\n",
       "      <td>94fa32b29cc1c00403176c0795fffa3cfaa0f20e</td>\n",
       "      <td>1</td>\n",
       "    </tr>\n",
       "    <tr>\n",
       "      <th>...</th>\n",
       "      <td>...</td>\n",
       "      <td>...</td>\n",
       "      <td>...</td>\n",
       "    </tr>\n",
       "    <tr>\n",
       "      <th>89112</th>\n",
       "      <td>220010</td>\n",
       "      <td>8a25b1632a1859d7b757e912ca673385b64e1b1d</td>\n",
       "      <td>1</td>\n",
       "    </tr>\n",
       "    <tr>\n",
       "      <th>89113</th>\n",
       "      <td>220012</td>\n",
       "      <td>3e24dd48c3a419f4d669cac3cf71e777ba100541</td>\n",
       "      <td>1</td>\n",
       "    </tr>\n",
       "    <tr>\n",
       "      <th>89114</th>\n",
       "      <td>220014</td>\n",
       "      <td>309210db7f424edbc22b2d13bf2fa27518b18f5c</td>\n",
       "      <td>1</td>\n",
       "    </tr>\n",
       "    <tr>\n",
       "      <th>89115</th>\n",
       "      <td>220021</td>\n",
       "      <td>d4b854fe38b07fe2831ad73892b3cec877689576</td>\n",
       "      <td>1</td>\n",
       "    </tr>\n",
       "    <tr>\n",
       "      <th>89116</th>\n",
       "      <td>220024</td>\n",
       "      <td>a81f84895ddcd522302ddf34be02eb1b3e5af1cb</td>\n",
       "      <td>1</td>\n",
       "    </tr>\n",
       "  </tbody>\n",
       "</table>\n",
       "<p>89117 rows × 3 columns</p>\n",
       "</div>"
      ],
      "text/plain": [
       "        index                                        id  label\n",
       "0           1  c18f2d887b7ae4f6742ee445113fa1aef383ed77      1\n",
       "1           6  a24ce148f6ffa7ef8eefb4efb12ebffe8dd700da      1\n",
       "2           7  7f6ccae485af121e0b6ee733022e226ee6b0c65f      1\n",
       "3          11  c3d660212bf2a11c994e0eadff13770a9927b731      1\n",
       "4          14  94fa32b29cc1c00403176c0795fffa3cfaa0f20e      1\n",
       "...       ...                                       ...    ...\n",
       "89112  220010  8a25b1632a1859d7b757e912ca673385b64e1b1d      1\n",
       "89113  220012  3e24dd48c3a419f4d669cac3cf71e777ba100541      1\n",
       "89114  220014  309210db7f424edbc22b2d13bf2fa27518b18f5c      1\n",
       "89115  220021  d4b854fe38b07fe2831ad73892b3cec877689576      1\n",
       "89116  220024  a81f84895ddcd522302ddf34be02eb1b3e5af1cb      1\n",
       "\n",
       "[89117 rows x 3 columns]"
      ]
     },
     "execution_count": 9,
     "metadata": {},
     "output_type": "execute_result"
    }
   ],
   "source": [
    "train_labels_tumor"
   ]
  },
  {
   "cell_type": "code",
   "execution_count": 10,
   "metadata": {},
   "outputs": [
    {
     "data": {
      "text/html": [
       "<div>\n",
       "<style scoped>\n",
       "    .dataframe tbody tr th:only-of-type {\n",
       "        vertical-align: middle;\n",
       "    }\n",
       "\n",
       "    .dataframe tbody tr th {\n",
       "        vertical-align: top;\n",
       "    }\n",
       "\n",
       "    .dataframe thead th {\n",
       "        text-align: right;\n",
       "    }\n",
       "</style>\n",
       "<table border=\"1\" class=\"dataframe\">\n",
       "  <thead>\n",
       "    <tr style=\"text-align: right;\">\n",
       "      <th></th>\n",
       "      <th>index</th>\n",
       "      <th>id</th>\n",
       "      <th>label</th>\n",
       "    </tr>\n",
       "  </thead>\n",
       "  <tbody>\n",
       "    <tr>\n",
       "      <th>0</th>\n",
       "      <td>0</td>\n",
       "      <td>f38a6374c348f90b587e046aac6079959adf3835</td>\n",
       "      <td>0</td>\n",
       "    </tr>\n",
       "    <tr>\n",
       "      <th>1</th>\n",
       "      <td>2</td>\n",
       "      <td>755db6279dae599ebb4d39a9123cce439965282d</td>\n",
       "      <td>0</td>\n",
       "    </tr>\n",
       "    <tr>\n",
       "      <th>2</th>\n",
       "      <td>3</td>\n",
       "      <td>bc3f0c64fb968ff4a8bd33af6971ecae77c75e08</td>\n",
       "      <td>0</td>\n",
       "    </tr>\n",
       "    <tr>\n",
       "      <th>3</th>\n",
       "      <td>4</td>\n",
       "      <td>068aba587a4950175d04c680d38943fd488d6a9d</td>\n",
       "      <td>0</td>\n",
       "    </tr>\n",
       "    <tr>\n",
       "      <th>4</th>\n",
       "      <td>5</td>\n",
       "      <td>acfe80838488fae3c89bd21ade75be5c34e66be7</td>\n",
       "      <td>0</td>\n",
       "    </tr>\n",
       "    <tr>\n",
       "      <th>...</th>\n",
       "      <td>...</td>\n",
       "      <td>...</td>\n",
       "      <td>...</td>\n",
       "    </tr>\n",
       "    <tr>\n",
       "      <th>130903</th>\n",
       "      <td>220018</td>\n",
       "      <td>cdf7171a796090072ce521012497c78c9a56cad3</td>\n",
       "      <td>0</td>\n",
       "    </tr>\n",
       "    <tr>\n",
       "      <th>130904</th>\n",
       "      <td>220019</td>\n",
       "      <td>1fdacc29221a64e39d5d294d114c9e29da8705ae</td>\n",
       "      <td>0</td>\n",
       "    </tr>\n",
       "    <tr>\n",
       "      <th>130905</th>\n",
       "      <td>220020</td>\n",
       "      <td>53e9aa9d46e720bf3c6a7528d1fca3ba6e2e49f6</td>\n",
       "      <td>0</td>\n",
       "    </tr>\n",
       "    <tr>\n",
       "      <th>130906</th>\n",
       "      <td>220022</td>\n",
       "      <td>3d046cead1a2a5cbe00b2b4847cfb7ba7cf5fe75</td>\n",
       "      <td>0</td>\n",
       "    </tr>\n",
       "    <tr>\n",
       "      <th>130907</th>\n",
       "      <td>220023</td>\n",
       "      <td>f129691c13433f66e1e0671ff1fe80944816f5a2</td>\n",
       "      <td>0</td>\n",
       "    </tr>\n",
       "  </tbody>\n",
       "</table>\n",
       "<p>130908 rows × 3 columns</p>\n",
       "</div>"
      ],
      "text/plain": [
       "         index                                        id  label\n",
       "0            0  f38a6374c348f90b587e046aac6079959adf3835      0\n",
       "1            2  755db6279dae599ebb4d39a9123cce439965282d      0\n",
       "2            3  bc3f0c64fb968ff4a8bd33af6971ecae77c75e08      0\n",
       "3            4  068aba587a4950175d04c680d38943fd488d6a9d      0\n",
       "4            5  acfe80838488fae3c89bd21ade75be5c34e66be7      0\n",
       "...        ...                                       ...    ...\n",
       "130903  220018  cdf7171a796090072ce521012497c78c9a56cad3      0\n",
       "130904  220019  1fdacc29221a64e39d5d294d114c9e29da8705ae      0\n",
       "130905  220020  53e9aa9d46e720bf3c6a7528d1fca3ba6e2e49f6      0\n",
       "130906  220022  3d046cead1a2a5cbe00b2b4847cfb7ba7cf5fe75      0\n",
       "130907  220023  f129691c13433f66e1e0671ff1fe80944816f5a2      0\n",
       "\n",
       "[130908 rows x 3 columns]"
      ]
     },
     "execution_count": 10,
     "metadata": {},
     "output_type": "execute_result"
    }
   ],
   "source": [
    "train_labels_nontumor"
   ]
  },
  {
   "cell_type": "code",
   "execution_count": 11,
   "metadata": {},
   "outputs": [
    {
     "data": {
      "text/plain": [
       "((89117, 3), (130908, 3))"
      ]
     },
     "execution_count": 11,
     "metadata": {},
     "output_type": "execute_result"
    }
   ],
   "source": [
    "train_labels_tumor.shape, train_labels_nontumor.shape\n"
   ]
  },
  {
   "cell_type": "code",
   "execution_count": 12,
   "metadata": {},
   "outputs": [
    {
     "data": {
      "text/plain": [
       "(71293.6, 104726.40000000001)"
      ]
     },
     "execution_count": 12,
     "metadata": {},
     "output_type": "execute_result"
    }
   ],
   "source": [
    "89117*.8,130908*.8"
   ]
  },
  {
   "cell_type": "code",
   "execution_count": 13,
   "metadata": {},
   "outputs": [
    {
     "name": "stdout",
     "output_type": "stream",
     "text": [
      "#Training tumor done\n",
      "#Training non tumor done\n"
     ]
    }
   ],
   "source": [
    "# Copying the images to the directories created above an\n",
    "for i,row in train_labels_tumor.iloc[:71293,:].iterrows():\n",
    "    src = os.path.join(original_dataset_dir, row['id']+'.tif')\n",
    "    dst = os.path.join(train_tumor_dir, row['id']+'.tif')\n",
    "    #shutil.copyfile(src, dst) \n",
    "\n",
    "print(\"#Training tumor done\")   \n",
    "\n",
    "for i,row in train_labels_nontumor.iloc[:1047264,:].iterrows():\n",
    "    src = os.path.join(original_dataset_dir, row['id']+'.tif')\n",
    "    dst = os.path.join(train_nontumor_dir, row['id']+'.tif')\n",
    "    #shutil.copyfile(src, dst)\n",
    "\n",
    "print(\"#Training non tumor done\")   \n",
    " \n",
    "        "
   ]
  },
  {
   "cell_type": "code",
   "execution_count": 14,
   "metadata": {},
   "outputs": [
    {
     "name": "stdout",
     "output_type": "stream",
     "text": [
      "#Validation tumor done\n",
      "#Validation non tumor done\n"
     ]
    }
   ],
   "source": [
    "\n",
    "for i,row in train_labels_tumor.iloc[71293:89117,:].iterrows():\n",
    "    src = os.path.join(original_dataset_dir, row['id']+'.tif')\n",
    "    dst = os.path.join(validation_tumor_dir, row['id']+'.tif')\n",
    "    #shutil.copyfile(src, dst)\n",
    "    \n",
    "print(\"#Validation tumor done\")   \n",
    "    \n",
    "for i,row in train_labels_nontumor.iloc[104726:130908,:].iterrows():\n",
    "    src = os.path.join(original_dataset_dir, row['id']+'.tif')\n",
    "    dst = os.path.join(validation_nontumor_dir, row['id']+'.tif')\n",
    "    #shutil.copyfile(src, dst)\n",
    "    \n",
    "print(\"#Validation non tumor done\")  "
   ]
  },
  {
   "cell_type": "code",
   "execution_count": 15,
   "metadata": {},
   "outputs": [
    {
     "name": "stdout",
     "output_type": "stream",
     "text": [
      "total training tumor images: 71293\n",
      "total training nontumor images: 130908\n",
      "total validation tumor images: 17824\n",
      "total validation nontumor images: 26182\n"
     ]
    }
   ],
   "source": [
    "print('total training tumor images:', len(os.listdir(train_tumor_dir)))\n",
    "print('total training nontumor images:', len(os.listdir(train_nontumor_dir)))\n",
    "\n",
    "print('total validation tumor images:', len(os.listdir(validation_tumor_dir)))\n",
    "print('total validation nontumor images:', len(os.listdir(validation_nontumor_dir)))\n"
   ]
  },
  {
   "cell_type": "markdown",
   "metadata": {},
   "source": [
    "USE 3 LAYERS OF CONVOLUTIONAL MAX P00LING , 1 DENSE LAYER , AT THE FINAL LAYER WE FLATTEN AND ADD A DENSE LAYER WITH 512 NODES, THEN ADD OUTPUT LAYER\n",
    "\n",
    "Total of 16 filters in layer 1 and chose 3X3 as kernel size. Max pooling is then used to reduce the spatial dimensions of the output volume.\n",
    " 64 filters in layer 1\n",
    "  128 filters in layer 1"
   ]
  },
  {
   "cell_type": "code",
   "execution_count": 16,
   "metadata": {},
   "outputs": [],
   "source": [
    "# Building the network\n",
    "\n",
    "from keras import layers\n",
    "from keras import models\n",
    "\n",
    "model = models.Sequential()\n",
    "model.add(layers.Conv2D(16, (3, 3), activation='relu',input_shape=(32, 32, 3)))\n",
    "model.add(layers.MaxPooling2D((2, 2)))\n",
    "\n",
    "model.add(layers.Conv2D(64, (3, 3), activation='relu'))\n",
    "model.add(layers.MaxPooling2D((2, 2)))\n",
    "\n",
    "model.add(layers.Conv2D(128, (3, 3), activation='relu'))\n",
    "model.add(layers.MaxPooling2D((2, 2)))\n",
    "\n",
    "\n",
    "model.add(layers.Flatten())\n",
    "model.add(layers.Dense(512, activation='relu'))\n",
    "model.add(layers.Dense(1, activation='sigmoid'))\n"
   ]
  },
  {
   "cell_type": "code",
   "execution_count": 17,
   "metadata": {},
   "outputs": [
    {
     "name": "stdout",
     "output_type": "stream",
     "text": [
      "Model: \"sequential\"\n",
      "_________________________________________________________________\n",
      "Layer (type)                 Output Shape              Param #   \n",
      "=================================================================\n",
      "conv2d (Conv2D)              (None, 30, 30, 16)        448       \n",
      "_________________________________________________________________\n",
      "max_pooling2d (MaxPooling2D) (None, 15, 15, 16)        0         \n",
      "_________________________________________________________________\n",
      "conv2d_1 (Conv2D)            (None, 13, 13, 64)        9280      \n",
      "_________________________________________________________________\n",
      "max_pooling2d_1 (MaxPooling2 (None, 6, 6, 64)          0         \n",
      "_________________________________________________________________\n",
      "conv2d_2 (Conv2D)            (None, 4, 4, 128)         73856     \n",
      "_________________________________________________________________\n",
      "max_pooling2d_2 (MaxPooling2 (None, 2, 2, 128)         0         \n",
      "_________________________________________________________________\n",
      "flatten (Flatten)            (None, 512)               0         \n",
      "_________________________________________________________________\n",
      "dense (Dense)                (None, 512)               262656    \n",
      "_________________________________________________________________\n",
      "dense_1 (Dense)              (None, 1)                 513       \n",
      "=================================================================\n",
      "Total params: 346,753\n",
      "Trainable params: 346,753\n",
      "Non-trainable params: 0\n",
      "_________________________________________________________________\n"
     ]
    }
   ],
   "source": [
    "model.summary()"
   ]
  },
  {
   "cell_type": "markdown",
   "metadata": {},
   "source": [
    "USEING SGD OPTIMIZER TO START WITH"
   ]
  },
  {
   "cell_type": "code",
   "execution_count": 18,
   "metadata": {
    "scrolled": true
   },
   "outputs": [],
   "source": [
    "from keras import optimizers\n",
    "model.compile(loss='binary_crossentropy',\n",
    "    optimizer='sgd',\n",
    "    metrics=['acc'])"
   ]
  },
  {
   "cell_type": "markdown",
   "metadata": {},
   "source": [
    "CREATING TRAINING AND VALIDATION DATA\n"
   ]
  },
  {
   "cell_type": "code",
   "execution_count": 19,
   "metadata": {},
   "outputs": [
    {
     "name": "stdout",
     "output_type": "stream",
     "text": [
      "Found 202201 images belonging to 2 classes.\n",
      "Found 44006 images belonging to 2 classes.\n"
     ]
    }
   ],
   "source": [
    "\n",
    "from keras.preprocessing.image import ImageDataGenerator\n",
    "train_datagen = ImageDataGenerator(rescale=1./255)   #scaling to bring the number to 0-1 for the colors \n",
    "validation_datagen = ImageDataGenerator(rescale=1./255)\n",
    "train_generator = train_datagen.flow_from_directory(\n",
    "                train_dir,\n",
    "                target_size=(32, 32),\n",
    "                batch_size=20,\n",
    "                class_mode='binary')\n",
    "validation_generator = validation_datagen.flow_from_directory(\n",
    "                validation_dir,\n",
    "                target_size=(32, 32),\n",
    "                batch_size=20,\n",
    "                class_mode='binary')"
   ]
  },
  {
   "cell_type": "markdown",
   "metadata": {},
   "source": [
    "USE 30 EPOCHS AND 100 STEPS"
   ]
  },
  {
   "cell_type": "code",
   "execution_count": 113,
   "metadata": {
    "scrolled": true
   },
   "outputs": [
    {
     "name": "stderr",
     "output_type": "stream",
     "text": [
      "/Users/nishithareddy/.local/lib/python3.8/site-packages/keras/engine/training.py:1972: UserWarning: `Model.fit_generator` is deprecated and will be removed in a future version. Please use `Model.fit`, which supports generators.\n",
      "  warnings.warn('`Model.fit_generator` is deprecated and '\n"
     ]
    },
    {
     "name": "stdout",
     "output_type": "stream",
     "text": [
      "Epoch 1/30\n",
      "100/100 [==============================] - 13s 119ms/step - loss: 0.4626 - acc: 0.7855 - val_loss: 0.4774 - val_acc: 0.7925\n",
      "Epoch 2/30\n",
      "100/100 [==============================] - 12s 116ms/step - loss: 0.4957 - acc: 0.7640 - val_loss: 0.4980 - val_acc: 0.7700\n",
      "Epoch 3/30\n",
      "100/100 [==============================] - 8s 78ms/step - loss: 0.4677 - acc: 0.7815 - val_loss: 0.4948 - val_acc: 0.7705\n",
      "Epoch 4/30\n",
      "100/100 [==============================] - 8s 84ms/step - loss: 0.4842 - acc: 0.7785 - val_loss: 0.5244 - val_acc: 0.7500\n",
      "Epoch 5/30\n",
      "100/100 [==============================] - 9s 90ms/step - loss: 0.4764 - acc: 0.7745 - val_loss: 0.4745 - val_acc: 0.7860\n",
      "Epoch 6/30\n",
      "100/100 [==============================] - 10s 101ms/step - loss: 0.4587 - acc: 0.7850 - val_loss: 0.5457 - val_acc: 0.7365\n",
      "Epoch 7/30\n",
      "100/100 [==============================] - 9s 94ms/step - loss: 0.4787 - acc: 0.7780 - val_loss: 0.5277 - val_acc: 0.7520\n",
      "Epoch 8/30\n",
      "100/100 [==============================] - 7s 69ms/step - loss: 0.4765 - acc: 0.7795 - val_loss: 0.5377 - val_acc: 0.7400\n",
      "Epoch 9/30\n",
      "100/100 [==============================] - 8s 85ms/step - loss: 0.4773 - acc: 0.7815 - val_loss: 0.4963 - val_acc: 0.7740\n",
      "Epoch 10/30\n",
      "100/100 [==============================] - 7s 67ms/step - loss: 0.4675 - acc: 0.7905 - val_loss: 0.4868 - val_acc: 0.7700\n",
      "Epoch 11/30\n",
      "100/100 [==============================] - 7s 65ms/step - loss: 0.4950 - acc: 0.7725 - val_loss: 0.4810 - val_acc: 0.7720\n",
      "Epoch 12/30\n",
      "100/100 [==============================] - 8s 80ms/step - loss: 0.4555 - acc: 0.7860 - val_loss: 0.5014 - val_acc: 0.7660\n",
      "Epoch 13/30\n",
      "100/100 [==============================] - 8s 78ms/step - loss: 0.4720 - acc: 0.7780 - val_loss: 0.4683 - val_acc: 0.7940\n",
      "Epoch 14/30\n",
      "100/100 [==============================] - 8s 83ms/step - loss: 0.4705 - acc: 0.7765 - val_loss: 0.4896 - val_acc: 0.7760\n",
      "Epoch 15/30\n",
      "100/100 [==============================] - 7s 69ms/step - loss: 0.4622 - acc: 0.7920 - val_loss: 0.5273 - val_acc: 0.7595\n",
      "Epoch 16/30\n",
      "100/100 [==============================] - 9s 87ms/step - loss: 0.4780 - acc: 0.7705 - val_loss: 0.4802 - val_acc: 0.7815\n",
      "Epoch 17/30\n",
      "100/100 [==============================] - 9s 92ms/step - loss: 0.4558 - acc: 0.7860 - val_loss: 0.4998 - val_acc: 0.7640\n",
      "Epoch 18/30\n",
      "100/100 [==============================] - 6s 62ms/step - loss: 0.4785 - acc: 0.7780 - val_loss: 0.4844 - val_acc: 0.7715\n",
      "Epoch 19/30\n",
      "100/100 [==============================] - 9s 94ms/step - loss: 0.4768 - acc: 0.7760 - val_loss: 0.4740 - val_acc: 0.7800\n",
      "Epoch 20/30\n",
      "100/100 [==============================] - 7s 73ms/step - loss: 0.4489 - acc: 0.8005 - val_loss: 0.4834 - val_acc: 0.7815\n",
      "Epoch 21/30\n",
      "100/100 [==============================] - 9s 89ms/step - loss: 0.4711 - acc: 0.7785 - val_loss: 0.4820 - val_acc: 0.7780\n",
      "Epoch 22/30\n",
      "100/100 [==============================] - 8s 78ms/step - loss: 0.4540 - acc: 0.7840 - val_loss: 0.5124 - val_acc: 0.7645\n",
      "Epoch 23/30\n",
      "100/100 [==============================] - 8s 80ms/step - loss: 0.4867 - acc: 0.7855 - val_loss: 0.4715 - val_acc: 0.7920\n",
      "Epoch 24/30\n",
      "100/100 [==============================] - 8s 76ms/step - loss: 0.4694 - acc: 0.7880 - val_loss: 0.4703 - val_acc: 0.7885\n",
      "Epoch 25/30\n",
      "100/100 [==============================] - 8s 76ms/step - loss: 0.4715 - acc: 0.7845 - val_loss: 0.4633 - val_acc: 0.7845\n",
      "Epoch 26/30\n",
      "100/100 [==============================] - 8s 79ms/step - loss: 0.4439 - acc: 0.8025 - val_loss: 0.4587 - val_acc: 0.8015\n",
      "Epoch 27/30\n",
      "100/100 [==============================] - 8s 78ms/step - loss: 0.4844 - acc: 0.7715 - val_loss: 0.4918 - val_acc: 0.7745\n",
      "Epoch 28/30\n",
      "100/100 [==============================] - 10s 98ms/step - loss: 0.4472 - acc: 0.7970 - val_loss: 0.4676 - val_acc: 0.7840\n",
      "Epoch 29/30\n",
      "100/100 [==============================] - 7s 74ms/step - loss: 0.4369 - acc: 0.8020 - val_loss: 0.4719 - val_acc: 0.7825\n",
      "Epoch 30/30\n",
      "100/100 [==============================] - 7s 67ms/step - loss: 0.4519 - acc: 0.7885 - val_loss: 0.4658 - val_acc: 0.7960\n"
     ]
    }
   ],
   "source": [
    "history = model.fit_generator(\n",
    "            train_generator,\n",
    "            steps_per_epoch=100,\n",
    "            epochs=30,\n",
    "            validation_data=validation_generator,\n",
    "            validation_steps=100)"
   ]
  },
  {
   "cell_type": "code",
   "execution_count": 128,
   "metadata": {},
   "outputs": [
    {
     "data": {
      "image/png": "[encoded data removed]",
      "text/plain": [
       "<Figure size 432x288 with 1 Axes>"
      ]
     },
     "metadata": {
      "needs_background": "light"
     },
     "output_type": "display_data"
    },
    {
     "data": {
      "image/png": "[encoded data removed]",
      "text/plain": [
       "<Figure size 432x288 with 1 Axes>"
      ]
     },
     "metadata": {
      "needs_background": "light"
     },
     "output_type": "display_data"
    }
   ],
   "source": [
    "import matplotlib.pyplot as plt\n",
    "acc = history.history['acc']\n",
    "val_acc = history.history['val_acc']\n",
    "loss = history.history['loss']\n",
    "val_loss = history.history['val_loss']\n",
    "epochs = range(1, len(acc) + 1)\n",
    "plt.plot(epochs, acc, 'bo', label='Training acc')\n",
    "plt.plot(epochs, val_acc, 'b', label='Validation acc')\n",
    "plt.title('Training and validation accuracy')\n",
    "plt.legend()\n",
    "plt.figure()\n",
    "plt.plot(epochs, loss, 'bo', label='Training loss')\n",
    "plt.plot(epochs, val_loss, 'b', label='Validation loss')\n",
    "plt.title('Training and validation loss')\n",
    "plt.legend()\n",
    "plt.show()"
   ]
  },
  {
   "cell_type": "markdown",
   "metadata": {},
   "source": [
    "TRAINING FOR 43 EPOCHS AND 100 STEPS"
   ]
  },
  {
   "cell_type": "code",
   "execution_count": 20,
   "metadata": {
    "scrolled": true
   },
   "outputs": [
    {
     "name": "stderr",
     "output_type": "stream",
     "text": [
      "/Users/nishithareddy/.local/lib/python3.8/site-packages/keras/engine/training.py:1972: UserWarning: `Model.fit_generator` is deprecated and will be removed in a future version. Please use `Model.fit`, which supports generators.\n",
      "  warnings.warn('`Model.fit_generator` is deprecated and '\n"
     ]
    },
    {
     "name": "stdout",
     "output_type": "stream",
     "text": [
      "Epoch 1/43\n",
      "100/100 [==============================] - 8s 73ms/step - loss: 0.6501 - acc: 0.6460 - val_loss: 0.6905 - val_acc: 0.5815\n",
      "Epoch 2/43\n",
      "100/100 [==============================] - 7s 69ms/step - loss: 0.6453 - acc: 0.6395 - val_loss: 0.6677 - val_acc: 0.5965\n",
      "Epoch 3/43\n",
      "100/100 [==============================] - 7s 70ms/step - loss: 0.6339 - acc: 0.6510 - val_loss: 0.6646 - val_acc: 0.5975\n",
      "Epoch 4/43\n",
      "100/100 [==============================] - 8s 78ms/step - loss: 0.6280 - acc: 0.6560 - val_loss: 0.6812 - val_acc: 0.5860\n",
      "Epoch 5/43\n",
      "100/100 [==============================] - 7s 70ms/step - loss: 0.6241 - acc: 0.6550 - val_loss: 0.6590 - val_acc: 0.5775\n",
      "Epoch 6/43\n",
      "100/100 [==============================] - 7s 73ms/step - loss: 0.6109 - acc: 0.6640 - val_loss: 0.6484 - val_acc: 0.6010\n",
      "Epoch 7/43\n",
      "100/100 [==============================] - 7s 73ms/step - loss: 0.6134 - acc: 0.6520 - val_loss: 0.6359 - val_acc: 0.5995\n",
      "Epoch 8/43\n",
      "100/100 [==============================] - 7s 74ms/step - loss: 0.6034 - acc: 0.6630 - val_loss: 0.6460 - val_acc: 0.6045\n",
      "Epoch 9/43\n",
      "100/100 [==============================] - 7s 69ms/step - loss: 0.5854 - acc: 0.6875 - val_loss: 0.6105 - val_acc: 0.6610\n",
      "Epoch 10/43\n",
      "100/100 [==============================] - 7s 72ms/step - loss: 0.5743 - acc: 0.6955 - val_loss: 0.6215 - val_acc: 0.6530\n",
      "Epoch 11/43\n",
      "100/100 [==============================] - 7s 71ms/step - loss: 0.5610 - acc: 0.7210 - val_loss: 0.5499 - val_acc: 0.7325\n",
      "Epoch 12/43\n",
      "100/100 [==============================] - 7s 70ms/step - loss: 0.5377 - acc: 0.7385 - val_loss: 0.5306 - val_acc: 0.7615\n",
      "Epoch 13/43\n",
      "100/100 [==============================] - 7s 70ms/step - loss: 0.5321 - acc: 0.7400 - val_loss: 0.5982 - val_acc: 0.6600\n",
      "Epoch 14/43\n",
      "100/100 [==============================] - 7s 73ms/step - loss: 0.5347 - acc: 0.7360 - val_loss: 0.5633 - val_acc: 0.7250\n",
      "Epoch 15/43\n",
      "100/100 [==============================] - 7s 72ms/step - loss: 0.5009 - acc: 0.7670 - val_loss: 0.6035 - val_acc: 0.6690\n",
      "Epoch 16/43\n",
      "100/100 [==============================] - 7s 72ms/step - loss: 0.5136 - acc: 0.7470 - val_loss: 0.4982 - val_acc: 0.7760\n",
      "Epoch 17/43\n",
      "100/100 [==============================] - 8s 79ms/step - loss: 0.4900 - acc: 0.7805 - val_loss: 0.4828 - val_acc: 0.7935\n",
      "Epoch 18/43\n",
      "100/100 [==============================] - 7s 68ms/step - loss: 0.5089 - acc: 0.7575 - val_loss: 0.5681 - val_acc: 0.7120\n",
      "Epoch 19/43\n",
      "100/100 [==============================] - 7s 70ms/step - loss: 0.4780 - acc: 0.7825 - val_loss: 0.4993 - val_acc: 0.7620\n",
      "Epoch 20/43\n",
      "100/100 [==============================] - 7s 74ms/step - loss: 0.5040 - acc: 0.7645 - val_loss: 0.6168 - val_acc: 0.6825\n",
      "Epoch 21/43\n",
      "100/100 [==============================] - 7s 72ms/step - loss: 0.4914 - acc: 0.7625 - val_loss: 0.5525 - val_acc: 0.7250\n",
      "Epoch 22/43\n",
      "100/100 [==============================] - 7s 69ms/step - loss: 0.4985 - acc: 0.7705 - val_loss: 0.5535 - val_acc: 0.7400\n",
      "Epoch 23/43\n",
      "100/100 [==============================] - 8s 79ms/step - loss: 0.5058 - acc: 0.7555 - val_loss: 0.4755 - val_acc: 0.7815\n",
      "Epoch 24/43\n",
      "100/100 [==============================] - 7s 71ms/step - loss: 0.4909 - acc: 0.7720 - val_loss: 0.4716 - val_acc: 0.7855\n",
      "Epoch 25/43\n",
      "100/100 [==============================] - 7s 72ms/step - loss: 0.4658 - acc: 0.7870 - val_loss: 0.5583 - val_acc: 0.7425\n",
      "Epoch 26/43\n",
      "100/100 [==============================] - 7s 65ms/step - loss: 0.4905 - acc: 0.7655 - val_loss: 0.5194 - val_acc: 0.7465\n",
      "Epoch 27/43\n",
      "100/100 [==============================] - 7s 67ms/step - loss: 0.4687 - acc: 0.7815 - val_loss: 0.4986 - val_acc: 0.7660\n",
      "Epoch 28/43\n",
      "100/100 [==============================] - 7s 67ms/step - loss: 0.4690 - acc: 0.7815 - val_loss: 0.5267 - val_acc: 0.7470\n",
      "Epoch 29/43\n",
      "100/100 [==============================] - 7s 65ms/step - loss: 0.4892 - acc: 0.7745 - val_loss: 0.4804 - val_acc: 0.7845\n",
      "Epoch 30/43\n",
      "100/100 [==============================] - 6s 64ms/step - loss: 0.4842 - acc: 0.7670 - val_loss: 0.4721 - val_acc: 0.7850\n",
      "Epoch 31/43\n",
      "100/100 [==============================] - 7s 69ms/step - loss: 0.4737 - acc: 0.7760 - val_loss: 0.4816 - val_acc: 0.7730\n",
      "Epoch 32/43\n",
      "100/100 [==============================] - 7s 69ms/step - loss: 0.4729 - acc: 0.7800 - val_loss: 0.4865 - val_acc: 0.7830\n",
      "Epoch 33/43\n",
      "100/100 [==============================] - 7s 67ms/step - loss: 0.4562 - acc: 0.7960 - val_loss: 0.4788 - val_acc: 0.7680\n",
      "Epoch 34/43\n",
      "100/100 [==============================] - 7s 74ms/step - loss: 0.4820 - acc: 0.7700 - val_loss: 0.4750 - val_acc: 0.7795\n",
      "Epoch 35/43\n",
      "100/100 [==============================] - 8s 81ms/step - loss: 0.4696 - acc: 0.7885 - val_loss: 0.4691 - val_acc: 0.7845\n",
      "Epoch 36/43\n",
      "100/100 [==============================] - 7s 67ms/step - loss: 0.4637 - acc: 0.7895 - val_loss: 0.4829 - val_acc: 0.7765\n",
      "Epoch 37/43\n",
      "100/100 [==============================] - 7s 67ms/step - loss: 0.4729 - acc: 0.7905 - val_loss: 0.4676 - val_acc: 0.7880\n",
      "Epoch 38/43\n",
      "100/100 [==============================] - 6s 64ms/step - loss: 0.4710 - acc: 0.7830 - val_loss: 0.5592 - val_acc: 0.7265\n",
      "Epoch 39/43\n",
      "100/100 [==============================] - 7s 66ms/step - loss: 0.4713 - acc: 0.7710 - val_loss: 0.4809 - val_acc: 0.7870\n",
      "Epoch 40/43\n",
      "100/100 [==============================] - 7s 69ms/step - loss: 0.4686 - acc: 0.7765 - val_loss: 0.4894 - val_acc: 0.7845\n",
      "Epoch 41/43\n",
      "100/100 [==============================] - 7s 71ms/step - loss: 0.4653 - acc: 0.7875 - val_loss: 0.4867 - val_acc: 0.7800\n",
      "Epoch 42/43\n",
      "100/100 [==============================] - 9s 93ms/step - loss: 0.4603 - acc: 0.7895 - val_loss: 0.4587 - val_acc: 0.7960\n",
      "Epoch 43/43\n",
      "100/100 [==============================] - 9s 91ms/step - loss: 0.4628 - acc: 0.7915 - val_loss: 0.5593 - val_acc: 0.7540\n"
     ]
    }
   ],
   "source": [
    "history = model.fit_generator(\n",
    "            train_generator,\n",
    "            steps_per_epoch=100,\n",
    "            epochs=43,\n",
    "            validation_data=validation_generator,\n",
    "            validation_steps=100)"
   ]
  },
  {
   "cell_type": "markdown",
   "metadata": {},
   "source": [
    "PLOTTING GRAPHS"
   ]
  },
  {
   "cell_type": "code",
   "execution_count": 114,
   "metadata": {
    "scrolled": false
   },
   "outputs": [
    {
     "data": {
      "image/png": "[encoded data removed]",
      "text/plain": [
       "<Figure size 432x288 with 1 Axes>"
      ]
     },
     "metadata": {
      "needs_background": "light"
     },
     "output_type": "display_data"
    },
    {
     "data": {
      "image/png": "[encoded data removed]",
      "text/plain": [
       "<Figure size 432x288 with 1 Axes>"
      ]
     },
     "metadata": {
      "needs_background": "light"
     },
     "output_type": "display_data"
    }
   ],
   "source": [
    "\n",
    "import matplotlib.pyplot as plt\n",
    "acc = history.history['acc']\n",
    "val_acc = history.history['val_acc']\n",
    "loss = history.history['loss']\n",
    "val_loss = history.history['val_loss']\n",
    "epochs = range(1, len(acc) + 1)\n",
    "plt.plot(epochs, acc, 'bo', label='Training acc')\n",
    "plt.plot(epochs, val_acc, 'b', label='Validation acc')\n",
    "plt.title('Training and validation accuracy')\n",
    "plt.legend()\n",
    "plt.figure()\n",
    "plt.plot(epochs, loss, 'bo', label='Training loss')\n",
    "plt.plot(epochs, val_loss, 'b', label='Validation loss')\n",
    "plt.title('Training and validation loss')\n",
    "plt.legend()\n",
    "plt.show()"
   ]
  },
  {
   "cell_type": "markdown",
   "metadata": {},
   "source": [
    "Training for 50 epochs 200 \n"
   ]
  },
  {
   "cell_type": "code",
   "execution_count": 22,
   "metadata": {
    "scrolled": true
   },
   "outputs": [
    {
     "name": "stdout",
     "output_type": "stream",
     "text": [
      "Epoch 1/50\n",
      "200/200 [==============================] - 14s 68ms/step - loss: 0.4657 - acc: 0.7815 - val_loss: 0.4410 - val_acc: 0.8020\n",
      "Epoch 2/50\n",
      "200/200 [==============================] - 13s 67ms/step - loss: 0.4446 - acc: 0.7950 - val_loss: 0.4628 - val_acc: 0.7855\n",
      "Epoch 3/50\n",
      "200/200 [==============================] - 18s 89ms/step - loss: 0.4621 - acc: 0.7875 - val_loss: 0.4511 - val_acc: 0.7983\n",
      "Epoch 4/50\n",
      "200/200 [==============================] - 13s 65ms/step - loss: 0.4595 - acc: 0.7952 - val_loss: 0.4524 - val_acc: 0.7958\n",
      "Epoch 5/50\n",
      "200/200 [==============================] - 13s 64ms/step - loss: 0.4618 - acc: 0.7895 - val_loss: 0.4742 - val_acc: 0.7855\n",
      "Epoch 6/50\n",
      "200/200 [==============================] - 13s 66ms/step - loss: 0.4560 - acc: 0.7965 - val_loss: 0.4733 - val_acc: 0.7805\n",
      "Epoch 7/50\n",
      "200/200 [==============================] - 13s 65ms/step - loss: 0.4444 - acc: 0.8015 - val_loss: 0.4943 - val_acc: 0.7722\n",
      "Epoch 8/50\n",
      "200/200 [==============================] - 13s 66ms/step - loss: 0.4563 - acc: 0.7872 - val_loss: 0.4693 - val_acc: 0.7893\n",
      "Epoch 9/50\n",
      "200/200 [==============================] - 13s 66ms/step - loss: 0.4531 - acc: 0.7968 - val_loss: 0.4611 - val_acc: 0.7853\n",
      "Epoch 10/50\n",
      "200/200 [==============================] - 13s 64ms/step - loss: 0.4573 - acc: 0.7865 - val_loss: 0.4445 - val_acc: 0.8030\n",
      "Epoch 11/50\n",
      "200/200 [==============================] - 13s 67ms/step - loss: 0.4462 - acc: 0.7943 - val_loss: 0.4989 - val_acc: 0.7645\n",
      "Epoch 12/50\n",
      "200/200 [==============================] - 13s 66ms/step - loss: 0.4434 - acc: 0.7987 - val_loss: 0.4905 - val_acc: 0.7635\n",
      "Epoch 13/50\n",
      "200/200 [==============================] - 13s 65ms/step - loss: 0.4317 - acc: 0.8067 - val_loss: 0.4613 - val_acc: 0.7922\n",
      "Epoch 14/50\n",
      "200/200 [==============================] - 13s 65ms/step - loss: 0.4313 - acc: 0.8077 - val_loss: 0.4616 - val_acc: 0.7822\n",
      "Epoch 15/50\n",
      "200/200 [==============================] - 13s 65ms/step - loss: 0.4407 - acc: 0.7960 - val_loss: 0.4418 - val_acc: 0.8002\n",
      "Epoch 16/50\n",
      "200/200 [==============================] - 13s 64ms/step - loss: 0.4307 - acc: 0.8040 - val_loss: 0.4371 - val_acc: 0.7987\n",
      "Epoch 17/50\n",
      "200/200 [==============================] - 13s 67ms/step - loss: 0.4528 - acc: 0.7912 - val_loss: 0.4446 - val_acc: 0.7970\n",
      "Epoch 18/50\n",
      "200/200 [==============================] - 14s 71ms/step - loss: 0.4318 - acc: 0.8027 - val_loss: 0.4539 - val_acc: 0.7905\n",
      "Epoch 19/50\n",
      "200/200 [==============================] - 18s 89ms/step - loss: 0.4363 - acc: 0.8085 - val_loss: 0.4345 - val_acc: 0.8067\n",
      "Epoch 20/50\n",
      "200/200 [==============================] - 14s 70ms/step - loss: 0.4325 - acc: 0.8018 - val_loss: 0.4453 - val_acc: 0.7975\n",
      "Epoch 21/50\n",
      "200/200 [==============================] - 13s 67ms/step - loss: 0.4388 - acc: 0.8000 - val_loss: 0.4719 - val_acc: 0.7847\n",
      "Epoch 22/50\n",
      "200/200 [==============================] - 17s 85ms/step - loss: 0.4378 - acc: 0.8030 - val_loss: 0.4548 - val_acc: 0.7903\n",
      "Epoch 23/50\n",
      "200/200 [==============================] - 14s 72ms/step - loss: 0.4397 - acc: 0.8030 - val_loss: 0.4964 - val_acc: 0.7655\n",
      "Epoch 24/50\n",
      "200/200 [==============================] - 16s 81ms/step - loss: 0.4391 - acc: 0.8015 - val_loss: 0.4476 - val_acc: 0.7962\n",
      "Epoch 25/50\n",
      "200/200 [==============================] - 16s 80ms/step - loss: 0.4234 - acc: 0.8150 - val_loss: 0.4633 - val_acc: 0.7878\n",
      "Epoch 26/50\n",
      "200/200 [==============================] - 14s 72ms/step - loss: 0.4195 - acc: 0.8098 - val_loss: 0.4357 - val_acc: 0.8052\n",
      "Epoch 27/50\n",
      "200/200 [==============================] - 16s 79ms/step - loss: 0.4394 - acc: 0.8008 - val_loss: 0.4538 - val_acc: 0.7962\n",
      "Epoch 28/50\n",
      "200/200 [==============================] - 14s 70ms/step - loss: 0.4163 - acc: 0.8175 - val_loss: 0.4481 - val_acc: 0.7983\n",
      "Epoch 29/50\n",
      "200/200 [==============================] - 14s 68ms/step - loss: 0.4348 - acc: 0.8037 - val_loss: 0.4372 - val_acc: 0.8033\n",
      "Epoch 30/50\n",
      "200/200 [==============================] - 14s 69ms/step - loss: 0.4325 - acc: 0.8027 - val_loss: 0.4695 - val_acc: 0.7908\n",
      "Epoch 31/50\n",
      "200/200 [==============================] - 15s 73ms/step - loss: 0.4266 - acc: 0.8152 - val_loss: 0.4301 - val_acc: 0.8062\n",
      "Epoch 32/50\n",
      "200/200 [==============================] - 13s 67ms/step - loss: 0.4441 - acc: 0.7987 - val_loss: 0.4345 - val_acc: 0.8012\n",
      "Epoch 33/50\n",
      "200/200 [==============================] - 14s 70ms/step - loss: 0.4089 - acc: 0.8188 - val_loss: 0.4442 - val_acc: 0.7990\n",
      "Epoch 34/50\n",
      "200/200 [==============================] - 13s 64ms/step - loss: 0.4285 - acc: 0.8083 - val_loss: 0.4288 - val_acc: 0.8105\n",
      "Epoch 35/50\n",
      "200/200 [==============================] - 13s 66ms/step - loss: 0.4291 - acc: 0.8050 - val_loss: 0.4336 - val_acc: 0.8048\n",
      "Epoch 36/50\n",
      "200/200 [==============================] - 15s 75ms/step - loss: 0.4308 - acc: 0.8023 - val_loss: 0.4149 - val_acc: 0.8202\n",
      "Epoch 37/50\n",
      "200/200 [==============================] - 14s 68ms/step - loss: 0.4435 - acc: 0.8005 - val_loss: 0.4356 - val_acc: 0.8085\n",
      "Epoch 38/50\n",
      "200/200 [==============================] - 14s 69ms/step - loss: 0.4215 - acc: 0.8175 - val_loss: 0.4015 - val_acc: 0.8250\n",
      "Epoch 39/50\n",
      "200/200 [==============================] - 13s 67ms/step - loss: 0.4278 - acc: 0.8035 - val_loss: 0.4130 - val_acc: 0.8180\n",
      "Epoch 40/50\n",
      "200/200 [==============================] - 15s 73ms/step - loss: 0.4268 - acc: 0.8080 - val_loss: 0.4211 - val_acc: 0.8108\n",
      "Epoch 41/50\n",
      "200/200 [==============================] - 17s 83ms/step - loss: 0.4057 - acc: 0.8148 - val_loss: 0.4340 - val_acc: 0.8048\n",
      "Epoch 42/50\n",
      "200/200 [==============================] - 16s 79ms/step - loss: 0.4191 - acc: 0.8158 - val_loss: 0.4860 - val_acc: 0.7868\n",
      "Epoch 43/50\n",
      "200/200 [==============================] - 14s 72ms/step - loss: 0.4233 - acc: 0.8070 - val_loss: 0.4446 - val_acc: 0.8012\n",
      "Epoch 44/50\n",
      "200/200 [==============================] - 14s 68ms/step - loss: 0.4312 - acc: 0.8080 - val_loss: 0.4121 - val_acc: 0.8167\n",
      "Epoch 45/50\n",
      "200/200 [==============================] - 15s 77ms/step - loss: 0.4249 - acc: 0.8152 - val_loss: 0.4251 - val_acc: 0.8145\n",
      "Epoch 46/50\n",
      "200/200 [==============================] - 14s 70ms/step - loss: 0.4267 - acc: 0.8070 - val_loss: 0.4276 - val_acc: 0.8145\n",
      "Epoch 47/50\n",
      "200/200 [==============================] - 14s 70ms/step - loss: 0.4181 - acc: 0.8150 - val_loss: 0.4239 - val_acc: 0.8033\n",
      "Epoch 48/50\n",
      "200/200 [==============================] - 14s 68ms/step - loss: 0.4265 - acc: 0.8065 - val_loss: 0.4374 - val_acc: 0.8035\n",
      "Epoch 49/50\n",
      "200/200 [==============================] - 13s 67ms/step - loss: 0.4174 - acc: 0.8112 - val_loss: 0.4339 - val_acc: 0.8077\n",
      "Epoch 50/50\n",
      "200/200 [==============================] - 13s 67ms/step - loss: 0.4241 - acc: 0.8125 - val_loss: 0.4158 - val_acc: 0.8135\n"
     ]
    }
   ],
   "source": [
    "historyb = model.fit_generator(\n",
    "            train_generator,\n",
    "            steps_per_epoch=200,\n",
    "            epochs=50,\n",
    "            validation_data=validation_generator,\n",
    "            validation_steps=200)"
   ]
  },
  {
   "cell_type": "markdown",
   "metadata": {},
   "source": [
    "IT IS A BETTER FIT WITH MORE ACCURACY THAN PREVIOUS\n"
   ]
  },
  {
   "cell_type": "markdown",
   "metadata": {},
   "source": [
    "PLOT GRAPH FOR TRAIN AND VALIDATE ACCURACY AND TRAINING AND VALIDATION LOSS"
   ]
  },
  {
   "cell_type": "code",
   "execution_count": 24,
   "metadata": {
    "scrolled": true
   },
   "outputs": [
    {
     "data": {
      "image/png": "[encoded data removed]",
      "text/plain": [
       "<Figure size 432x288 with 1 Axes>"
      ]
     },
     "metadata": {
      "needs_background": "light"
     },
     "output_type": "display_data"
    },
    {
     "data": {
      "image/png": "[encoded data removed]",
      "text/plain": [
       "<Figure size 432x288 with 1 Axes>"
      ]
     },
     "metadata": {
      "needs_background": "light"
     },
     "output_type": "display_data"
    }
   ],
   "source": [
    "import matplotlib.pyplot as plt\n",
    "acc = historyb.history['acc']\n",
    "val_acc = historyb.history['val_acc']\n",
    "loss = historyb.history['loss']\n",
    "val_loss = historyb.history['val_loss']\n",
    "epochs = range(1, len(acc) + 1)\n",
    "plt.plot(epochs, acc, 'bo', label='Training acc')\n",
    "plt.plot(epochs, val_acc, 'b', label='Validation acc')\n",
    "plt.title('Training and validation accuracy')\n",
    "plt.legend()\n",
    "plt.figure()\n",
    "plt.plot(epochs, loss, 'bo', label='Training loss')\n",
    "plt.plot(epochs, val_loss, 'b', label='Validation loss')\n",
    "plt.title('Training and validation loss')\n",
    "plt.legend()\n",
    "plt.show()"
   ]
  },
  {
   "cell_type": "markdown",
   "metadata": {},
   "source": [
    "CHANGING THE NETWORK TO CHECK IF IT PROVIDES BETTER ACCURACY\n",
    "IN THE THIRD LAYER WE CHANGED THE FILTERS TO 256"
   ]
  },
  {
   "cell_type": "code",
   "execution_count": 25,
   "metadata": {},
   "outputs": [],
   "source": [
    "# Building the network2\n",
    "\n",
    "from keras import layers\n",
    "from keras import models\n",
    "\n",
    "model2 = models.Sequential()\n",
    "model2.add(layers.Conv2D(16, (3, 3), activation='relu',input_shape=(32, 32, 3)))\n",
    "model2.add(layers.MaxPooling2D((2, 2)))\n",
    "\n",
    "model2.add(layers.Conv2D(64, (3, 3), activation='relu'))\n",
    "model2.add(layers.MaxPooling2D((2, 2)))\n",
    "\n",
    "model2.add(layers.Conv2D(256, (3, 3), activation='relu'))\n",
    "model2.add(layers.MaxPooling2D((2, 2)))\n",
    "\n",
    "model2.add(layers.Flatten())\n",
    "model2.add(layers.Dense(512, activation='relu'))\n",
    "model2.add(layers.Dense(1, activation='sigmoid'))"
   ]
  },
  {
   "cell_type": "code",
   "execution_count": 26,
   "metadata": {
    "scrolled": false
   },
   "outputs": [
    {
     "name": "stdout",
     "output_type": "stream",
     "text": [
      "Model: \"sequential_1\"\n",
      "_________________________________________________________________\n",
      "Layer (type)                 Output Shape              Param #   \n",
      "=================================================================\n",
      "conv2d_3 (Conv2D)            (None, 30, 30, 16)        448       \n",
      "_________________________________________________________________\n",
      "max_pooling2d_3 (MaxPooling2 (None, 15, 15, 16)        0         \n",
      "_________________________________________________________________\n",
      "conv2d_4 (Conv2D)            (None, 13, 13, 64)        9280      \n",
      "_________________________________________________________________\n",
      "max_pooling2d_4 (MaxPooling2 (None, 6, 6, 64)          0         \n",
      "_________________________________________________________________\n",
      "conv2d_5 (Conv2D)            (None, 4, 4, 256)         147712    \n",
      "_________________________________________________________________\n",
      "max_pooling2d_5 (MaxPooling2 (None, 2, 2, 256)         0         \n",
      "_________________________________________________________________\n",
      "flatten_1 (Flatten)          (None, 1024)              0         \n",
      "_________________________________________________________________\n",
      "dense_2 (Dense)              (None, 512)               524800    \n",
      "_________________________________________________________________\n",
      "dense_3 (Dense)              (None, 1)                 513       \n",
      "=================================================================\n",
      "Total params: 682,753\n",
      "Trainable params: 682,753\n",
      "Non-trainable params: 0\n",
      "_________________________________________________________________\n"
     ]
    }
   ],
   "source": [
    "model2.summary()"
   ]
  },
  {
   "cell_type": "markdown",
   "metadata": {},
   "source": [
    "USE THE SAME OPTIMIZER TO CHECK IF PRODUCES BETTER RESULTS "
   ]
  },
  {
   "cell_type": "code",
   "execution_count": 27,
   "metadata": {},
   "outputs": [],
   "source": [
    "from keras import optimizers\n",
    "model2.compile(loss='binary_crossentropy',\n",
    "    optimizer='sgd',\n",
    "    metrics=['acc'])"
   ]
  },
  {
   "cell_type": "markdown",
   "metadata": {},
   "source": [
    "ABOVE THE ACCURACY IS BETTER FOR 50 EPOCHS AND 200 STEPS SO WE USE THE SAM HERE TO CHECK BETTER MODEL ON SAME VALUES"
   ]
  },
  {
   "cell_type": "code",
   "execution_count": 28,
   "metadata": {
    "scrolled": true
   },
   "outputs": [
    {
     "name": "stderr",
     "output_type": "stream",
     "text": [
      "/Users/nishithareddy/.local/lib/python3.8/site-packages/keras/engine/training.py:1972: UserWarning: `Model.fit_generator` is deprecated and will be removed in a future version. Please use `Model.fit`, which supports generators.\n",
      "  warnings.warn('`Model.fit_generator` is deprecated and '\n"
     ]
    },
    {
     "name": "stdout",
     "output_type": "stream",
     "text": [
      "Epoch 1/50\n",
      "200/200 [==============================] - 15s 70ms/step - loss: 0.6387 - acc: 0.6482 - val_loss: 0.6883 - val_acc: 0.5955\n",
      "Epoch 2/50\n",
      "200/200 [==============================] - 13s 67ms/step - loss: 0.6293 - acc: 0.6543 - val_loss: 0.6569 - val_acc: 0.5880\n",
      "Epoch 3/50\n",
      "200/200 [==============================] - 13s 66ms/step - loss: 0.6159 - acc: 0.6510 - val_loss: 0.6906 - val_acc: 0.5850\n",
      "Epoch 4/50\n",
      "200/200 [==============================] - 13s 67ms/step - loss: 0.6020 - acc: 0.6773 - val_loss: 0.6080 - val_acc: 0.6405\n",
      "Epoch 5/50\n",
      "200/200 [==============================] - 15s 76ms/step - loss: 0.5841 - acc: 0.7035 - val_loss: 0.5826 - val_acc: 0.7265\n",
      "Epoch 6/50\n",
      "200/200 [==============================] - 13s 67ms/step - loss: 0.5687 - acc: 0.7188 - val_loss: 0.6842 - val_acc: 0.6208\n",
      "Epoch 7/50\n",
      "200/200 [==============================] - 13s 64ms/step - loss: 0.5545 - acc: 0.7272 - val_loss: 0.5402 - val_acc: 0.7475\n",
      "Epoch 8/50\n",
      "200/200 [==============================] - 13s 67ms/step - loss: 0.5192 - acc: 0.7535 - val_loss: 0.6717 - val_acc: 0.6695\n",
      "Epoch 9/50\n",
      "200/200 [==============================] - 13s 67ms/step - loss: 0.5287 - acc: 0.7533 - val_loss: 0.5522 - val_acc: 0.7232\n",
      "Epoch 10/50\n",
      "200/200 [==============================] - 14s 69ms/step - loss: 0.4927 - acc: 0.7722 - val_loss: 0.4857 - val_acc: 0.7847\n",
      "Epoch 11/50\n",
      "200/200 [==============================] - 14s 72ms/step - loss: 0.5064 - acc: 0.7573 - val_loss: 0.4906 - val_acc: 0.7763\n",
      "Epoch 12/50\n",
      "200/200 [==============================] - 14s 69ms/step - loss: 0.4892 - acc: 0.7657 - val_loss: 0.4999 - val_acc: 0.7710\n",
      "Epoch 13/50\n",
      "200/200 [==============================] - 14s 72ms/step - loss: 0.4810 - acc: 0.7765 - val_loss: 0.4759 - val_acc: 0.7890\n",
      "Epoch 14/50\n",
      "200/200 [==============================] - 15s 77ms/step - loss: 0.4881 - acc: 0.7730 - val_loss: 0.5120 - val_acc: 0.7563\n",
      "Epoch 15/50\n",
      "200/200 [==============================] - 13s 65ms/step - loss: 0.4898 - acc: 0.7678 - val_loss: 0.4912 - val_acc: 0.7763\n",
      "Epoch 16/50\n",
      "200/200 [==============================] - 14s 70ms/step - loss: 0.4825 - acc: 0.7815 - val_loss: 0.4756 - val_acc: 0.7788\n",
      "Epoch 17/50\n",
      "200/200 [==============================] - 13s 67ms/step - loss: 0.4872 - acc: 0.7780 - val_loss: 0.4945 - val_acc: 0.7665\n",
      "Epoch 18/50\n",
      "200/200 [==============================] - 14s 70ms/step - loss: 0.4727 - acc: 0.7825 - val_loss: 0.4636 - val_acc: 0.7930\n",
      "Epoch 19/50\n",
      "200/200 [==============================] - 14s 70ms/step - loss: 0.4773 - acc: 0.7865 - val_loss: 0.4969 - val_acc: 0.7695\n",
      "Epoch 20/50\n",
      "200/200 [==============================] - 14s 70ms/step - loss: 0.4721 - acc: 0.7832 - val_loss: 0.4846 - val_acc: 0.7775\n",
      "Epoch 21/50\n",
      "200/200 [==============================] - 14s 68ms/step - loss: 0.4611 - acc: 0.7865 - val_loss: 0.4950 - val_acc: 0.7725\n",
      "Epoch 22/50\n",
      "200/200 [==============================] - 14s 69ms/step - loss: 0.4669 - acc: 0.7818 - val_loss: 0.4994 - val_acc: 0.7725\n",
      "Epoch 23/50\n",
      "200/200 [==============================] - 14s 68ms/step - loss: 0.4519 - acc: 0.8002 - val_loss: 0.4808 - val_acc: 0.7805\n",
      "Epoch 24/50\n",
      "200/200 [==============================] - 13s 67ms/step - loss: 0.4734 - acc: 0.7840 - val_loss: 0.5083 - val_acc: 0.7685\n",
      "Epoch 25/50\n",
      "200/200 [==============================] - 13s 67ms/step - loss: 0.4431 - acc: 0.8050 - val_loss: 0.4818 - val_acc: 0.7707\n",
      "Epoch 26/50\n",
      "200/200 [==============================] - 14s 67ms/step - loss: 0.4728 - acc: 0.7832 - val_loss: 0.5097 - val_acc: 0.7645\n",
      "Epoch 27/50\n",
      "200/200 [==============================] - 14s 71ms/step - loss: 0.4599 - acc: 0.7925 - val_loss: 0.5083 - val_acc: 0.7625\n",
      "Epoch 28/50\n",
      "200/200 [==============================] - 14s 70ms/step - loss: 0.4599 - acc: 0.7903 - val_loss: 0.5062 - val_acc: 0.7642\n",
      "Epoch 29/50\n",
      "200/200 [==============================] - 13s 67ms/step - loss: 0.4516 - acc: 0.7947 - val_loss: 0.4870 - val_acc: 0.7640\n",
      "Epoch 30/50\n",
      "200/200 [==============================] - 13s 67ms/step - loss: 0.4467 - acc: 0.7930 - val_loss: 0.4920 - val_acc: 0.7797\n",
      "Epoch 31/50\n",
      "200/200 [==============================] - 13s 67ms/step - loss: 0.4529 - acc: 0.7945 - val_loss: 0.4563 - val_acc: 0.7977\n",
      "Epoch 32/50\n",
      "200/200 [==============================] - 14s 68ms/step - loss: 0.4637 - acc: 0.7952 - val_loss: 0.4683 - val_acc: 0.7860\n",
      "Epoch 33/50\n",
      "200/200 [==============================] - 13s 66ms/step - loss: 0.4545 - acc: 0.7930 - val_loss: 0.4546 - val_acc: 0.7900\n",
      "Epoch 34/50\n",
      "200/200 [==============================] - 13s 67ms/step - loss: 0.4719 - acc: 0.7835 - val_loss: 0.4970 - val_acc: 0.7685\n",
      "Epoch 35/50\n",
      "200/200 [==============================] - 16s 78ms/step - loss: 0.4506 - acc: 0.7915 - val_loss: 0.4736 - val_acc: 0.7893\n",
      "Epoch 36/50\n",
      "200/200 [==============================] - 15s 77ms/step - loss: 0.4503 - acc: 0.7925 - val_loss: 0.4595 - val_acc: 0.7997\n",
      "Epoch 37/50\n",
      "200/200 [==============================] - 13s 67ms/step - loss: 0.4514 - acc: 0.7935 - val_loss: 0.4722 - val_acc: 0.7928\n",
      "Epoch 38/50\n",
      "200/200 [==============================] - 14s 69ms/step - loss: 0.4427 - acc: 0.7968 - val_loss: 0.4805 - val_acc: 0.7857\n",
      "Epoch 39/50\n",
      "200/200 [==============================] - 13s 66ms/step - loss: 0.4484 - acc: 0.7918 - val_loss: 0.4747 - val_acc: 0.7878\n",
      "Epoch 40/50\n",
      "200/200 [==============================] - 13s 67ms/step - loss: 0.4578 - acc: 0.7955 - val_loss: 0.4564 - val_acc: 0.7930\n",
      "Epoch 41/50\n",
      "200/200 [==============================] - 14s 69ms/step - loss: 0.4513 - acc: 0.7933 - val_loss: 0.4575 - val_acc: 0.7935\n",
      "Epoch 42/50\n",
      "200/200 [==============================] - 13s 67ms/step - loss: 0.4434 - acc: 0.8015 - val_loss: 0.4568 - val_acc: 0.7955\n",
      "Epoch 43/50\n",
      "200/200 [==============================] - 14s 69ms/step - loss: 0.4582 - acc: 0.7895 - val_loss: 0.4638 - val_acc: 0.7770\n",
      "Epoch 44/50\n",
      "200/200 [==============================] - 15s 75ms/step - loss: 0.4465 - acc: 0.7983 - val_loss: 0.4361 - val_acc: 0.8100\n",
      "Epoch 45/50\n",
      "200/200 [==============================] - 15s 73ms/step - loss: 0.4560 - acc: 0.7897 - val_loss: 0.5019 - val_acc: 0.7713\n",
      "Epoch 46/50\n",
      "200/200 [==============================] - 14s 70ms/step - loss: 0.4413 - acc: 0.8040 - val_loss: 0.4940 - val_acc: 0.7725\n",
      "Epoch 47/50\n",
      "200/200 [==============================] - 13s 67ms/step - loss: 0.4435 - acc: 0.7965 - val_loss: 0.4474 - val_acc: 0.7933\n",
      "Epoch 48/50\n",
      "200/200 [==============================] - 14s 68ms/step - loss: 0.4312 - acc: 0.8048 - val_loss: 0.4569 - val_acc: 0.7857\n",
      "Epoch 49/50\n",
      "200/200 [==============================] - 13s 67ms/step - loss: 0.4401 - acc: 0.8005 - val_loss: 0.4871 - val_acc: 0.7790\n",
      "Epoch 50/50\n",
      "200/200 [==============================] - 14s 68ms/step - loss: 0.4318 - acc: 0.8040 - val_loss: 0.4471 - val_acc: 0.7985\n"
     ]
    }
   ],
   "source": [
    "history3 = model2.fit_generator(\n",
    "            train_generator,\n",
    "            steps_per_epoch=200,\n",
    "            epochs=50,\n",
    "            validation_data=validation_generator,\n",
    "            validation_steps=200)"
   ]
  },
  {
   "cell_type": "markdown",
   "metadata": {},
   "source": [
    "MODEL 2 DOEST NOT WORK BETTER THAN MODEL 1"
   ]
  },
  {
   "cell_type": "markdown",
   "metadata": {},
   "source": [
    "CHANGE OPTIMIZER FOR MODEL ONE TO GET BETTER RESULTS"
   ]
  },
  {
   "cell_type": "markdown",
   "metadata": {},
   "source": [
    "USING ADAMAX"
   ]
  },
  {
   "cell_type": "code",
   "execution_count": 34,
   "metadata": {},
   "outputs": [],
   "source": [
    "#change optimizer on model to adamax\n",
    "from keras import optimizers\n",
    "model.compile(loss='binary_crossentropy',\n",
    "    optimizer='adamax',\n",
    "    metrics=['acc'])"
   ]
  },
  {
   "cell_type": "code",
   "execution_count": null,
   "metadata": {},
   "outputs": [],
   "source": [
    "BECAUSE WE USED 50 EPOCHS AND 200 STEPS ABOVE FOR GOOD RESULTS WE CONTINUE WITH THAT"
   ]
  },
  {
   "cell_type": "code",
   "execution_count": 36,
   "metadata": {
    "scrolled": true
   },
   "outputs": [
    {
     "name": "stdout",
     "output_type": "stream",
     "text": [
      "Epoch 1/50\n",
      "200/200 [==============================] - 13s 64ms/step - loss: 0.3854 - acc: 0.8257 - val_loss: 0.3960 - val_acc: 0.8298\n",
      "Epoch 2/50\n",
      "200/200 [==============================] - 12s 61ms/step - loss: 0.3978 - acc: 0.8273 - val_loss: 0.3930 - val_acc: 0.8257\n",
      "Epoch 3/50\n",
      "200/200 [==============================] - 12s 62ms/step - loss: 0.3673 - acc: 0.8410 - val_loss: 0.3924 - val_acc: 0.8282\n",
      "Epoch 4/50\n",
      "200/200 [==============================] - 13s 63ms/step - loss: 0.3666 - acc: 0.8397 - val_loss: 0.3736 - val_acc: 0.8380\n",
      "Epoch 5/50\n",
      "200/200 [==============================] - 13s 63ms/step - loss: 0.3666 - acc: 0.8425 - val_loss: 0.4526 - val_acc: 0.8030\n",
      "Epoch 6/50\n",
      "200/200 [==============================] - 13s 66ms/step - loss: 0.3770 - acc: 0.8353 - val_loss: 0.4160 - val_acc: 0.8235\n",
      "Epoch 7/50\n",
      "200/200 [==============================] - 13s 63ms/step - loss: 0.3618 - acc: 0.8420 - val_loss: 0.3846 - val_acc: 0.8295\n",
      "Epoch 8/50\n",
      "200/200 [==============================] - 14s 68ms/step - loss: 0.3691 - acc: 0.8405 - val_loss: 0.3913 - val_acc: 0.8310\n",
      "Epoch 9/50\n",
      "200/200 [==============================] - 15s 74ms/step - loss: 0.3730 - acc: 0.8345 - val_loss: 0.4070 - val_acc: 0.8230\n",
      "Epoch 10/50\n",
      "200/200 [==============================] - 14s 67ms/step - loss: 0.3730 - acc: 0.8395 - val_loss: 0.3670 - val_acc: 0.8340\n",
      "Epoch 11/50\n",
      "200/200 [==============================] - 13s 65ms/step - loss: 0.3563 - acc: 0.8447 - val_loss: 0.3624 - val_acc: 0.8428\n",
      "Epoch 12/50\n",
      "200/200 [==============================] - 13s 65ms/step - loss: 0.3628 - acc: 0.8403 - val_loss: 0.4123 - val_acc: 0.8232\n",
      "Epoch 13/50\n",
      "200/200 [==============================] - 13s 65ms/step - loss: 0.3669 - acc: 0.8380 - val_loss: 0.3993 - val_acc: 0.8273\n",
      "Epoch 14/50\n",
      "200/200 [==============================] - 13s 66ms/step - loss: 0.3590 - acc: 0.8440 - val_loss: 0.4137 - val_acc: 0.8210\n",
      "Epoch 15/50\n",
      "200/200 [==============================] - 14s 68ms/step - loss: 0.3760 - acc: 0.8355 - val_loss: 0.3875 - val_acc: 0.8273\n",
      "Epoch 16/50\n",
      "200/200 [==============================] - 13s 66ms/step - loss: 0.3834 - acc: 0.8295 - val_loss: 0.3845 - val_acc: 0.8330\n",
      "Epoch 17/50\n",
      "200/200 [==============================] - 16s 79ms/step - loss: 0.3662 - acc: 0.8435 - val_loss: 0.3847 - val_acc: 0.8292\n",
      "Epoch 18/50\n",
      "200/200 [==============================] - 13s 66ms/step - loss: 0.3700 - acc: 0.8390 - val_loss: 0.3650 - val_acc: 0.8420\n",
      "Epoch 19/50\n",
      "200/200 [==============================] - 13s 67ms/step - loss: 0.3748 - acc: 0.8365 - val_loss: 0.3813 - val_acc: 0.8385\n",
      "Epoch 20/50\n",
      "200/200 [==============================] - 14s 68ms/step - loss: 0.3554 - acc: 0.8432 - val_loss: 0.3723 - val_acc: 0.8345\n",
      "Epoch 21/50\n",
      "200/200 [==============================] - 14s 69ms/step - loss: 0.3746 - acc: 0.8340 - val_loss: 0.3787 - val_acc: 0.8360\n",
      "Epoch 22/50\n",
      "200/200 [==============================] - 13s 65ms/step - loss: 0.3472 - acc: 0.8505 - val_loss: 0.3689 - val_acc: 0.8378\n",
      "Epoch 23/50\n",
      "200/200 [==============================] - 15s 74ms/step - loss: 0.3653 - acc: 0.8405 - val_loss: 0.3701 - val_acc: 0.8360\n",
      "Epoch 24/50\n",
      "200/200 [==============================] - 14s 70ms/step - loss: 0.3554 - acc: 0.8558 - val_loss: 0.3783 - val_acc: 0.8372\n",
      "Epoch 25/50\n",
      "200/200 [==============================] - 14s 68ms/step - loss: 0.3693 - acc: 0.8405 - val_loss: 0.3826 - val_acc: 0.8305\n",
      "Epoch 26/50\n",
      "200/200 [==============================] - 13s 66ms/step - loss: 0.3637 - acc: 0.8445 - val_loss: 0.3586 - val_acc: 0.8443\n",
      "Epoch 27/50\n",
      "200/200 [==============================] - 13s 67ms/step - loss: 0.3560 - acc: 0.8422 - val_loss: 0.3802 - val_acc: 0.8363\n",
      "Epoch 28/50\n",
      "200/200 [==============================] - 13s 66ms/step - loss: 0.3553 - acc: 0.8500 - val_loss: 0.3551 - val_acc: 0.8478\n",
      "Epoch 29/50\n",
      "200/200 [==============================] - 13s 66ms/step - loss: 0.3529 - acc: 0.8415 - val_loss: 0.3647 - val_acc: 0.8400\n",
      "Epoch 30/50\n",
      "200/200 [==============================] - 13s 66ms/step - loss: 0.3416 - acc: 0.8515 - val_loss: 0.3616 - val_acc: 0.8485\n",
      "Epoch 31/50\n",
      "200/200 [==============================] - 13s 66ms/step - loss: 0.3320 - acc: 0.8593 - val_loss: 0.3630 - val_acc: 0.8460\n",
      "Epoch 32/50\n",
      "200/200 [==============================] - 13s 67ms/step - loss: 0.3335 - acc: 0.8560 - val_loss: 0.3826 - val_acc: 0.8260\n",
      "Epoch 33/50\n",
      "200/200 [==============================] - 16s 78ms/step - loss: 0.3516 - acc: 0.8468 - val_loss: 0.3550 - val_acc: 0.8508\n",
      "Epoch 34/50\n",
      "200/200 [==============================] - 15s 77ms/step - loss: 0.3377 - acc: 0.8478 - val_loss: 0.3813 - val_acc: 0.8335\n",
      "Epoch 35/50\n",
      "200/200 [==============================] - 13s 67ms/step - loss: 0.3505 - acc: 0.8497 - val_loss: 0.4011 - val_acc: 0.8173\n",
      "Epoch 36/50\n",
      "200/200 [==============================] - 13s 67ms/step - loss: 0.3563 - acc: 0.8425 - val_loss: 0.3624 - val_acc: 0.8422\n",
      "Epoch 37/50\n",
      "200/200 [==============================] - 13s 67ms/step - loss: 0.3524 - acc: 0.8465 - val_loss: 0.3441 - val_acc: 0.8445\n",
      "Epoch 38/50\n",
      "200/200 [==============================] - 14s 71ms/step - loss: 0.3449 - acc: 0.8560 - val_loss: 0.3522 - val_acc: 0.8475\n",
      "Epoch 39/50\n",
      "200/200 [==============================] - 13s 65ms/step - loss: 0.3416 - acc: 0.8490 - val_loss: 0.3844 - val_acc: 0.8385\n",
      "Epoch 40/50\n",
      "200/200 [==============================] - 13s 65ms/step - loss: 0.3540 - acc: 0.8468 - val_loss: 0.3553 - val_acc: 0.8478\n",
      "Epoch 41/50\n",
      "200/200 [==============================] - 14s 68ms/step - loss: 0.3407 - acc: 0.8482 - val_loss: 0.3451 - val_acc: 0.8528\n",
      "Epoch 42/50\n",
      "200/200 [==============================] - 14s 71ms/step - loss: 0.3307 - acc: 0.8565 - val_loss: 0.3511 - val_acc: 0.8450\n",
      "Epoch 43/50\n",
      "200/200 [==============================] - 15s 74ms/step - loss: 0.3395 - acc: 0.8545 - val_loss: 0.3676 - val_acc: 0.8380\n",
      "Epoch 44/50\n",
      "200/200 [==============================] - 15s 76ms/step - loss: 0.3368 - acc: 0.8543 - val_loss: 0.3791 - val_acc: 0.8350\n",
      "Epoch 45/50\n",
      "200/200 [==============================] - 14s 69ms/step - loss: 0.3463 - acc: 0.8528 - val_loss: 0.3613 - val_acc: 0.8468\n",
      "Epoch 46/50\n",
      "200/200 [==============================] - 14s 70ms/step - loss: 0.3582 - acc: 0.8462 - val_loss: 0.3501 - val_acc: 0.8522\n",
      "Epoch 47/50\n",
      "200/200 [==============================] - 13s 67ms/step - loss: 0.3514 - acc: 0.8520 - val_loss: 0.3751 - val_acc: 0.8340\n",
      "Epoch 48/50\n",
      "200/200 [==============================] - 13s 66ms/step - loss: 0.3154 - acc: 0.8745 - val_loss: 0.3692 - val_acc: 0.8482\n",
      "Epoch 49/50\n",
      "200/200 [==============================] - 15s 76ms/step - loss: 0.3542 - acc: 0.8528 - val_loss: 0.3343 - val_acc: 0.8580\n",
      "Epoch 50/50\n",
      "200/200 [==============================] - 15s 72ms/step - loss: 0.3440 - acc: 0.8490 - val_loss: 0.3591 - val_acc: 0.8530\n"
     ]
    }
   ],
   "source": [
    "# Training for 50 epochs 200 steps\n",
    "history2 = model.fit_generator(\n",
    "            train_generator,\n",
    "            steps_per_epoch=200,\n",
    "            epochs=50,\n",
    "            validation_data=validation_generator,\n",
    "            validation_steps=200)"
   ]
  },
  {
   "cell_type": "markdown",
   "metadata": {},
   "source": [
    "THIS OPTIMIZER PRODUCES 87.45 BETTER THAN SGD"
   ]
  },
  {
   "cell_type": "markdown",
   "metadata": {},
   "source": [
    "PLOT THE GRAPH FOR ACCURACY AND LOSS "
   ]
  },
  {
   "cell_type": "code",
   "execution_count": 37,
   "metadata": {
    "scrolled": false
   },
   "outputs": [
    {
     "data": {
      "image/png": "[encoded data removed]",
      "text/plain": [
       "<Figure size 432x288 with 1 Axes>"
      ]
     },
     "metadata": {
      "needs_background": "light"
     },
     "output_type": "display_data"
    },
    {
     "data": {
      "image/png": "[encoded data removed]",
      "text/plain": [
       "<Figure size 432x288 with 1 Axes>"
      ]
     },
     "metadata": {
      "needs_background": "light"
     },
     "output_type": "display_data"
    }
   ],
   "source": [
    "import matplotlib.pyplot as plt\n",
    "acc = history2.history['acc']\n",
    "val_acc = history2.history['val_acc']\n",
    "loss = history2.history['loss']\n",
    "val_loss = history2.history['val_loss']\n",
    "epochs = range(1, len(acc) + 1)\n",
    "plt.plot(epochs, acc, 'bo', label='Training acc')\n",
    "plt.plot(epochs, val_acc, 'b', label='Validation acc')\n",
    "plt.title('Training and validation accuracy')\n",
    "plt.legend()\n",
    "plt.figure()\n",
    "plt.plot(epochs, loss, 'bo', label='Training loss')\n",
    "plt.plot(epochs, val_loss, 'b', label='Validation loss')\n",
    "plt.title('Training and validation loss')\n",
    "plt.legend()\n",
    "plt.show()"
   ]
  },
  {
   "cell_type": "markdown",
   "metadata": {},
   "source": [
    "TRY ANOTHER OPTIMIZER-ADAM"
   ]
  },
  {
   "cell_type": "code",
   "execution_count": 38,
   "metadata": {},
   "outputs": [],
   "source": [
    "#change optimizer on model 1\n",
    "from keras import optimizers\n",
    "model.compile(loss='binary_crossentropy',\n",
    "    optimizer='adam',\n",
    "    metrics=['acc'])"
   ]
  },
  {
   "cell_type": "markdown",
   "metadata": {},
   "source": [
    "CONTINUE WITH THE SAME FIT "
   ]
  },
  {
   "cell_type": "code",
   "execution_count": 39,
   "metadata": {
    "scrolled": true
   },
   "outputs": [
    {
     "name": "stdout",
     "output_type": "stream",
     "text": [
      "Epoch 1/50\n",
      "200/200 [==============================] - 13s 64ms/step - loss: 0.3903 - acc: 0.8338 - val_loss: 0.3713 - val_acc: 0.8393\n",
      "Epoch 2/50\n",
      "200/200 [==============================] - 14s 68ms/step - loss: 0.3872 - acc: 0.8315 - val_loss: 0.3840 - val_acc: 0.8385\n",
      "Epoch 3/50\n",
      "200/200 [==============================] - 13s 64ms/step - loss: 0.3662 - acc: 0.8407 - val_loss: 0.4127 - val_acc: 0.8350\n",
      "Epoch 4/50\n",
      "200/200 [==============================] - 15s 74ms/step - loss: 0.3687 - acc: 0.8388 - val_loss: 0.3703 - val_acc: 0.8422\n",
      "Epoch 5/50\n",
      "200/200 [==============================] - 14s 69ms/step - loss: 0.3819 - acc: 0.8382 - val_loss: 0.3985 - val_acc: 0.8248\n",
      "Epoch 6/50\n",
      "200/200 [==============================] - 13s 63ms/step - loss: 0.3748 - acc: 0.8380 - val_loss: 0.4328 - val_acc: 0.8052\n",
      "Epoch 7/50\n",
      "200/200 [==============================] - 13s 66ms/step - loss: 0.3625 - acc: 0.8460 - val_loss: 0.3647 - val_acc: 0.8415\n",
      "Epoch 8/50\n",
      "200/200 [==============================] - 13s 64ms/step - loss: 0.3775 - acc: 0.8370 - val_loss: 0.4188 - val_acc: 0.8087\n",
      "Epoch 9/50\n",
      "200/200 [==============================] - 13s 65ms/step - loss: 0.3544 - acc: 0.8530 - val_loss: 0.4100 - val_acc: 0.8145\n",
      "Epoch 10/50\n",
      "200/200 [==============================] - 13s 65ms/step - loss: 0.3570 - acc: 0.8457 - val_loss: 0.3959 - val_acc: 0.8260\n",
      "Epoch 11/50\n",
      "200/200 [==============================] - 13s 64ms/step - loss: 0.3734 - acc: 0.8432 - val_loss: 0.3868 - val_acc: 0.8367\n",
      "Epoch 12/50\n",
      "200/200 [==============================] - 13s 65ms/step - loss: 0.3652 - acc: 0.8460 - val_loss: 0.3806 - val_acc: 0.8360\n",
      "Epoch 13/50\n",
      "200/200 [==============================] - 14s 72ms/step - loss: 0.3696 - acc: 0.8370 - val_loss: 0.4016 - val_acc: 0.8207\n",
      "Epoch 14/50\n",
      "200/200 [==============================] - 13s 65ms/step - loss: 0.3771 - acc: 0.8330 - val_loss: 0.3879 - val_acc: 0.8255\n",
      "Epoch 15/50\n",
      "200/200 [==============================] - 15s 75ms/step - loss: 0.3974 - acc: 0.8217 - val_loss: 0.3765 - val_acc: 0.8295\n",
      "Epoch 16/50\n",
      "200/200 [==============================] - 13s 67ms/step - loss: 0.3688 - acc: 0.8422 - val_loss: 0.3779 - val_acc: 0.8328\n",
      "Epoch 17/50\n",
      "200/200 [==============================] - 14s 68ms/step - loss: 0.3739 - acc: 0.8418 - val_loss: 0.4133 - val_acc: 0.8142\n",
      "Epoch 18/50\n",
      "200/200 [==============================] - 13s 66ms/step - loss: 0.3583 - acc: 0.8390 - val_loss: 0.4084 - val_acc: 0.8217\n",
      "Epoch 19/50\n",
      "200/200 [==============================] - 14s 69ms/step - loss: 0.3712 - acc: 0.8380 - val_loss: 0.3804 - val_acc: 0.8350\n",
      "Epoch 20/50\n",
      "200/200 [==============================] - 13s 67ms/step - loss: 0.3735 - acc: 0.8338 - val_loss: 0.4062 - val_acc: 0.8415\n",
      "Epoch 21/50\n",
      "200/200 [==============================] - 13s 66ms/step - loss: 0.3547 - acc: 0.8490 - val_loss: 0.3930 - val_acc: 0.8207\n",
      "Epoch 22/50\n",
      "200/200 [==============================] - 14s 69ms/step - loss: 0.3629 - acc: 0.8460 - val_loss: 0.3728 - val_acc: 0.8328\n",
      "Epoch 23/50\n",
      "200/200 [==============================] - 14s 69ms/step - loss: 0.3462 - acc: 0.8530 - val_loss: 0.3860 - val_acc: 0.8183\n",
      "Epoch 24/50\n",
      "200/200 [==============================] - 13s 67ms/step - loss: 0.3602 - acc: 0.8375 - val_loss: 0.3791 - val_acc: 0.8345\n",
      "Epoch 25/50\n",
      "200/200 [==============================] - 17s 84ms/step - loss: 0.3574 - acc: 0.8450 - val_loss: 0.3992 - val_acc: 0.8363\n",
      "Epoch 26/50\n",
      "200/200 [==============================] - 20s 100ms/step - loss: 0.3663 - acc: 0.8435 - val_loss: 0.4089 - val_acc: 0.8232\n",
      "Epoch 27/50\n",
      "200/200 [==============================] - 14s 72ms/step - loss: 0.3788 - acc: 0.8355 - val_loss: 0.3608 - val_acc: 0.8447\n",
      "Epoch 28/50\n",
      "200/200 [==============================] - 14s 68ms/step - loss: 0.3559 - acc: 0.8522 - val_loss: 0.3594 - val_acc: 0.8447\n",
      "Epoch 29/50\n",
      "200/200 [==============================] - 14s 69ms/step - loss: 0.3736 - acc: 0.8367 - val_loss: 0.3995 - val_acc: 0.8292\n",
      "Epoch 30/50\n",
      "200/200 [==============================] - 14s 72ms/step - loss: 0.3588 - acc: 0.8457 - val_loss: 0.3577 - val_acc: 0.8445\n",
      "Epoch 31/50\n",
      "200/200 [==============================] - 14s 71ms/step - loss: 0.3603 - acc: 0.8415 - val_loss: 0.3758 - val_acc: 0.8393\n",
      "Epoch 32/50\n",
      "200/200 [==============================] - 15s 75ms/step - loss: 0.3660 - acc: 0.8367 - val_loss: 0.4707 - val_acc: 0.7860\n",
      "Epoch 33/50\n",
      "200/200 [==============================] - 14s 72ms/step - loss: 0.3485 - acc: 0.8455 - val_loss: 0.3652 - val_acc: 0.8415\n",
      "Epoch 34/50\n",
      "200/200 [==============================] - 14s 70ms/step - loss: 0.3486 - acc: 0.8472 - val_loss: 0.3582 - val_acc: 0.8395\n",
      "Epoch 35/50\n",
      "200/200 [==============================] - 13s 64ms/step - loss: 0.3654 - acc: 0.8357 - val_loss: 0.3734 - val_acc: 0.8385\n",
      "Epoch 36/50\n",
      "200/200 [==============================] - 13s 67ms/step - loss: 0.3468 - acc: 0.8505 - val_loss: 0.3637 - val_acc: 0.8403\n",
      "Epoch 37/50\n",
      "200/200 [==============================] - 14s 71ms/step - loss: 0.3312 - acc: 0.8565 - val_loss: 0.3828 - val_acc: 0.8325\n",
      "Epoch 38/50\n",
      "200/200 [==============================] - 14s 69ms/step - loss: 0.3562 - acc: 0.8445 - val_loss: 0.3792 - val_acc: 0.8450\n",
      "Epoch 39/50\n",
      "200/200 [==============================] - 14s 72ms/step - loss: 0.3547 - acc: 0.8505 - val_loss: 0.3860 - val_acc: 0.8340\n",
      "Epoch 40/50\n",
      "200/200 [==============================] - 13s 66ms/step - loss: 0.3466 - acc: 0.8495 - val_loss: 0.3647 - val_acc: 0.8462\n",
      "Epoch 41/50\n",
      "200/200 [==============================] - 14s 70ms/step - loss: 0.3513 - acc: 0.8460 - val_loss: 0.3614 - val_acc: 0.8443\n",
      "Epoch 42/50\n",
      "200/200 [==============================] - 14s 68ms/step - loss: 0.3555 - acc: 0.8472 - val_loss: 0.3752 - val_acc: 0.8365\n",
      "Epoch 43/50\n",
      "200/200 [==============================] - 15s 73ms/step - loss: 0.3716 - acc: 0.8360 - val_loss: 0.3637 - val_acc: 0.8415\n",
      "Epoch 44/50\n",
      "200/200 [==============================] - 14s 72ms/step - loss: 0.3368 - acc: 0.8522 - val_loss: 0.3659 - val_acc: 0.8460\n",
      "Epoch 45/50\n",
      "200/200 [==============================] - 14s 69ms/step - loss: 0.3452 - acc: 0.8530 - val_loss: 0.3621 - val_acc: 0.8445\n",
      "Epoch 46/50\n",
      "200/200 [==============================] - 13s 65ms/step - loss: 0.3525 - acc: 0.8462 - val_loss: 0.3772 - val_acc: 0.8335\n",
      "Epoch 47/50\n",
      "200/200 [==============================] - 12s 62ms/step - loss: 0.3582 - acc: 0.8443 - val_loss: 0.3843 - val_acc: 0.8353\n",
      "Epoch 48/50\n",
      "200/200 [==============================] - 12s 62ms/step - loss: 0.3384 - acc: 0.8550 - val_loss: 0.3580 - val_acc: 0.8568\n",
      "Epoch 49/50\n",
      "200/200 [==============================] - 13s 63ms/step - loss: 0.3472 - acc: 0.8520 - val_loss: 0.3478 - val_acc: 0.8445\n",
      "Epoch 50/50\n",
      "200/200 [==============================] - 13s 63ms/step - loss: 0.3463 - acc: 0.8508 - val_loss: 0.3619 - val_acc: 0.8395\n"
     ]
    }
   ],
   "source": [
    "# Training for 50 epochs 200 s\n",
    "history4 = model.fit_generator(\n",
    "            train_generator,\n",
    "            steps_per_epoch=200,\n",
    "            epochs=50,\n",
    "            validation_data=validation_generator,\n",
    "            validation_steps=200)"
   ]
  },
  {
   "cell_type": "markdown",
   "metadata": {},
   "source": [
    "THE ACCURACY DOESNOT IMPROVE WITH ADAM (85%)\n",
    "IT IS BETTER WITH ADAMAX"
   ]
  },
  {
   "cell_type": "markdown",
   "metadata": {},
   "source": [
    "CHANGE THE OPTIMIZER ON MODEL 1 TO nadam"
   ]
  },
  {
   "cell_type": "code",
   "execution_count": 40,
   "metadata": {},
   "outputs": [],
   "source": [
    "\n",
    "from keras import optimizers\n",
    "model.compile(loss='binary_crossentropy',\n",
    "    optimizer='nadam',\n",
    "    metrics=['acc'])"
   ]
  },
  {
   "cell_type": "code",
   "execution_count": 42,
   "metadata": {
    "scrolled": true
   },
   "outputs": [
    {
     "name": "stdout",
     "output_type": "stream",
     "text": [
      "Epoch 1/50\n",
      "200/200 [==============================] - 14s 69ms/step - loss: 0.3521 - acc: 0.8490 - val_loss: 0.3705 - val_acc: 0.8395\n",
      "Epoch 2/50\n",
      "200/200 [==============================] - 19s 93ms/step - loss: 0.3343 - acc: 0.8528 - val_loss: 0.3988 - val_acc: 0.8370\n",
      "Epoch 3/50\n",
      "200/200 [==============================] - 16s 77ms/step - loss: 0.3383 - acc: 0.8595 - val_loss: 0.3439 - val_acc: 0.8522\n",
      "Epoch 4/50\n",
      "200/200 [==============================] - 14s 72ms/step - loss: 0.3403 - acc: 0.8522 - val_loss: 0.3804 - val_acc: 0.8317\n",
      "Epoch 5/50\n",
      "200/200 [==============================] - 14s 69ms/step - loss: 0.3452 - acc: 0.8547 - val_loss: 0.3382 - val_acc: 0.8535\n",
      "Epoch 6/50\n",
      "200/200 [==============================] - 16s 81ms/step - loss: 0.3322 - acc: 0.8570 - val_loss: 0.3625 - val_acc: 0.8420\n",
      "Epoch 7/50\n",
      "200/200 [==============================] - 16s 82ms/step - loss: 0.3544 - acc: 0.8462 - val_loss: 0.3804 - val_acc: 0.8370\n",
      "Epoch 8/50\n",
      "200/200 [==============================] - 17s 83ms/step - loss: 0.3327 - acc: 0.8558 - val_loss: 0.3567 - val_acc: 0.8490\n",
      "Epoch 9/50\n",
      "200/200 [==============================] - 17s 84ms/step - loss: 0.3427 - acc: 0.8560 - val_loss: 0.3506 - val_acc: 0.8495\n",
      "Epoch 10/50\n",
      "200/200 [==============================] - 15s 73ms/step - loss: 0.3381 - acc: 0.8550 - val_loss: 0.3560 - val_acc: 0.8432\n",
      "Epoch 11/50\n",
      "200/200 [==============================] - 18s 89ms/step - loss: 0.3403 - acc: 0.8583 - val_loss: 0.3599 - val_acc: 0.8490\n",
      "Epoch 12/50\n",
      "200/200 [==============================] - 15s 73ms/step - loss: 0.3463 - acc: 0.8500 - val_loss: 0.3552 - val_acc: 0.8485\n",
      "Epoch 13/50\n",
      "200/200 [==============================] - 15s 73ms/step - loss: 0.3289 - acc: 0.8562 - val_loss: 0.3601 - val_acc: 0.8440\n",
      "Epoch 14/50\n",
      "200/200 [==============================] - 15s 77ms/step - loss: 0.3372 - acc: 0.8525 - val_loss: 0.3579 - val_acc: 0.8435\n",
      "Epoch 15/50\n",
      "200/200 [==============================] - 14s 72ms/step - loss: 0.3512 - acc: 0.8460 - val_loss: 0.3539 - val_acc: 0.8537\n",
      "Epoch 16/50\n",
      "200/200 [==============================] - 14s 70ms/step - loss: 0.3514 - acc: 0.8515 - val_loss: 0.3465 - val_acc: 0.8525\n",
      "Epoch 17/50\n",
      "200/200 [==============================] - 14s 69ms/step - loss: 0.3267 - acc: 0.8572 - val_loss: 0.3688 - val_acc: 0.8518\n",
      "Epoch 18/50\n",
      "200/200 [==============================] - 15s 73ms/step - loss: 0.3246 - acc: 0.8522 - val_loss: 0.3577 - val_acc: 0.8535\n",
      "Epoch 19/50\n",
      "200/200 [==============================] - 15s 72ms/step - loss: 0.3458 - acc: 0.8478 - val_loss: 0.3588 - val_acc: 0.8410\n",
      "Epoch 20/50\n",
      "200/200 [==============================] - 14s 70ms/step - loss: 0.3445 - acc: 0.8443 - val_loss: 0.3450 - val_acc: 0.8533\n",
      "Epoch 21/50\n",
      "200/200 [==============================] - 14s 68ms/step - loss: 0.3218 - acc: 0.8572 - val_loss: 0.3827 - val_acc: 0.8225\n",
      "Epoch 22/50\n",
      "200/200 [==============================] - 13s 67ms/step - loss: 0.3277 - acc: 0.8598 - val_loss: 0.3694 - val_acc: 0.8487\n",
      "Epoch 23/50\n",
      "200/200 [==============================] - 13s 67ms/step - loss: 0.3402 - acc: 0.8545 - val_loss: 0.3595 - val_acc: 0.8375\n",
      "Epoch 24/50\n",
      "200/200 [==============================] - 14s 67ms/step - loss: 0.3311 - acc: 0.8560 - val_loss: 0.3698 - val_acc: 0.8400\n",
      "Epoch 25/50\n",
      "200/200 [==============================] - 14s 68ms/step - loss: 0.3380 - acc: 0.8518 - val_loss: 0.4030 - val_acc: 0.8278\n",
      "Epoch 26/50\n",
      "200/200 [==============================] - 14s 70ms/step - loss: 0.3246 - acc: 0.8585 - val_loss: 0.3356 - val_acc: 0.8620\n",
      "Epoch 27/50\n",
      "200/200 [==============================] - 14s 68ms/step - loss: 0.3250 - acc: 0.8597 - val_loss: 0.3467 - val_acc: 0.8522\n",
      "Epoch 28/50\n",
      "200/200 [==============================] - 14s 70ms/step - loss: 0.3330 - acc: 0.8583 - val_loss: 0.4108 - val_acc: 0.8080\n",
      "Epoch 29/50\n",
      "200/200 [==============================] - 12s 59ms/step - loss: 0.3275 - acc: 0.8595 - val_loss: 0.3719 - val_acc: 0.8465\n",
      "Epoch 30/50\n",
      "200/200 [==============================] - 14s 72ms/step - loss: 0.3186 - acc: 0.8605 - val_loss: 0.3471 - val_acc: 0.8543\n",
      "Epoch 31/50\n",
      "200/200 [==============================] - 14s 70ms/step - loss: 0.3335 - acc: 0.8545 - val_loss: 0.3372 - val_acc: 0.8597\n",
      "Epoch 32/50\n",
      "200/200 [==============================] - 13s 66ms/step - loss: 0.3304 - acc: 0.8580 - val_loss: 0.3381 - val_acc: 0.8537\n",
      "Epoch 33/50\n",
      "200/200 [==============================] - 14s 68ms/step - loss: 0.3245 - acc: 0.8675 - val_loss: 0.3612 - val_acc: 0.8400\n",
      "Epoch 34/50\n",
      "200/200 [==============================] - 13s 67ms/step - loss: 0.3342 - acc: 0.8590 - val_loss: 0.3572 - val_acc: 0.8443\n",
      "Epoch 35/50\n",
      "200/200 [==============================] - 13s 67ms/step - loss: 0.3239 - acc: 0.8610 - val_loss: 0.3562 - val_acc: 0.8475\n",
      "Epoch 36/50\n",
      "200/200 [==============================] - 14s 70ms/step - loss: 0.3312 - acc: 0.8547 - val_loss: 0.3484 - val_acc: 0.8465\n",
      "Epoch 37/50\n",
      "200/200 [==============================] - 14s 70ms/step - loss: 0.3477 - acc: 0.8510 - val_loss: 0.3261 - val_acc: 0.8610\n",
      "Epoch 38/50\n",
      "200/200 [==============================] - 15s 73ms/step - loss: 0.3391 - acc: 0.8482 - val_loss: 0.3402 - val_acc: 0.8525\n",
      "Epoch 39/50\n",
      "200/200 [==============================] - 18s 89ms/step - loss: 0.3304 - acc: 0.8648 - val_loss: 0.3439 - val_acc: 0.8475\n",
      "Epoch 40/50\n",
      "200/200 [==============================] - 20s 100ms/step - loss: 0.3386 - acc: 0.8590 - val_loss: 0.3562 - val_acc: 0.8432\n",
      "Epoch 41/50\n",
      "200/200 [==============================] - 19s 95ms/step - loss: 0.3269 - acc: 0.8555 - val_loss: 0.3239 - val_acc: 0.8610\n",
      "Epoch 42/50\n",
      "200/200 [==============================] - 14s 72ms/step - loss: 0.3411 - acc: 0.8495 - val_loss: 0.3703 - val_acc: 0.8380\n",
      "Epoch 43/50\n",
      "200/200 [==============================] - 15s 76ms/step - loss: 0.3343 - acc: 0.8580 - val_loss: 0.3453 - val_acc: 0.8572\n",
      "Epoch 44/50\n",
      "200/200 [==============================] - 15s 75ms/step - loss: 0.3379 - acc: 0.8570 - val_loss: 0.3287 - val_acc: 0.8640\n",
      "Epoch 45/50\n",
      "200/200 [==============================] - 16s 78ms/step - loss: 0.3062 - acc: 0.8708 - val_loss: 0.3699 - val_acc: 0.8415\n",
      "Epoch 46/50\n",
      "200/200 [==============================] - 24s 119ms/step - loss: 0.3082 - acc: 0.8655 - val_loss: 0.3353 - val_acc: 0.8612\n",
      "Epoch 47/50\n",
      "200/200 [==============================] - 15s 74ms/step - loss: 0.3176 - acc: 0.8665 - val_loss: 0.3422 - val_acc: 0.8540\n",
      "Epoch 48/50\n",
      "200/200 [==============================] - 14s 72ms/step - loss: 0.3150 - acc: 0.8665 - val_loss: 0.3193 - val_acc: 0.8633\n",
      "Epoch 49/50\n",
      "200/200 [==============================] - 14s 72ms/step - loss: 0.3265 - acc: 0.8593 - val_loss: 0.3631 - val_acc: 0.8518\n",
      "Epoch 50/50\n",
      "200/200 [==============================] - 15s 76ms/step - loss: 0.3214 - acc: 0.8640 - val_loss: 0.3368 - val_acc: 0.8575\n"
     ]
    }
   ],
   "source": [
    "# Training for 50 epochs 200 steps\n",
    "history5 = model.fit_generator(\n",
    "            train_generator,\n",
    "            steps_per_epoch=200,\n",
    "            epochs=50,\n",
    "            validation_data=validation_generator,\n",
    "            validation_steps=200)"
   ]
  },
  {
   "cell_type": "markdown",
   "metadata": {},
   "source": [
    "THIS MODEL IS 87 AS WELL AS ADAMAX  SO CHOSE THIS AND MAKE FURTHR CHANGES IN FIT TO GET MORE ACCURACY"
   ]
  },
  {
   "cell_type": "markdown",
   "metadata": {},
   "source": [
    "PLOT THE GRAPHS"
   ]
  },
  {
   "cell_type": "code",
   "execution_count": 43,
   "metadata": {
    "scrolled": true
   },
   "outputs": [
    {
     "data": {
      "image/png": "[encoded data removed]",
      "text/plain": [
       "<Figure size 432x288 with 1 Axes>"
      ]
     },
     "metadata": {
      "needs_background": "light"
     },
     "output_type": "display_data"
    },
    {
     "data": {
      "image/png": "[encoded data removed]",
      "text/plain": [
       "<Figure size 432x288 with 1 Axes>"
      ]
     },
     "metadata": {
      "needs_background": "light"
     },
     "output_type": "display_data"
    }
   ],
   "source": [
    "import matplotlib.pyplot as plt\n",
    "acc = history5.history['acc']\n",
    "val_acc = history5.history['val_acc']\n",
    "loss = history5.history['loss']\n",
    "val_loss = history5.history['val_loss']\n",
    "epochs = range(1, len(acc) + 1)\n",
    "plt.plot(epochs, acc, 'bo', label='Training acc')\n",
    "plt.plot(epochs, val_acc, 'b', label='Validation acc')\n",
    "plt.title('Training and validation accuracy')\n",
    "plt.legend()\n",
    "plt.figure()\n",
    "plt.plot(epochs, loss, 'bo', label='Training loss')\n",
    "plt.plot(epochs, val_loss, 'b', label='Validation loss')\n",
    "plt.title('Training and validation loss')\n",
    "plt.legend()\n",
    "plt.show()"
   ]
  },
  {
   "cell_type": "markdown",
   "metadata": {},
   "source": [
    "CHANGE EPOCHS TO 50 AND STEPS 400 for nadam"
   ]
  },
  {
   "cell_type": "code",
   "execution_count": 46,
   "metadata": {
    "scrolled": true
   },
   "outputs": [
    {
     "name": "stdout",
     "output_type": "stream",
     "text": [
      "Epoch 1/20\n",
      "1000/1000 [==============================] - 68s 68ms/step - loss: 0.2914 - acc: 0.8776 - val_loss: 0.3206 - val_acc: 0.8665\n",
      "Epoch 2/20\n",
      "1000/1000 [==============================] - 69s 69ms/step - loss: 0.2929 - acc: 0.8802 - val_loss: 0.3443 - val_acc: 0.8510\n",
      "Epoch 3/20\n",
      "1000/1000 [==============================] - 69s 69ms/step - loss: 0.2863 - acc: 0.8783 - val_loss: 0.3259 - val_acc: 0.8620\n",
      "Epoch 4/20\n",
      "1000/1000 [==============================] - 73s 73ms/step - loss: 0.2918 - acc: 0.8764 - val_loss: 0.3225 - val_acc: 0.8630\n",
      "Epoch 5/20\n",
      "1000/1000 [==============================] - 68s 68ms/step - loss: 0.2886 - acc: 0.8772 - val_loss: 0.3391 - val_acc: 0.8613\n",
      "Epoch 6/20\n",
      "1000/1000 [==============================] - 67s 67ms/step - loss: 0.2823 - acc: 0.8818 - val_loss: 0.3232 - val_acc: 0.8615\n",
      "Epoch 7/20\n",
      "1000/1000 [==============================] - 76s 76ms/step - loss: 0.2923 - acc: 0.8759 - val_loss: 0.3145 - val_acc: 0.8684\n",
      "Epoch 8/20\n",
      "1000/1000 [==============================] - 68s 68ms/step - loss: 0.2762 - acc: 0.8845 - val_loss: 0.3358 - val_acc: 0.8660\n",
      "Epoch 9/20\n",
      "1000/1000 [==============================] - 70s 70ms/step - loss: 0.2805 - acc: 0.8851 - val_loss: 0.3237 - val_acc: 0.8652\n",
      "Epoch 10/20\n",
      "1000/1000 [==============================] - 67s 67ms/step - loss: 0.2788 - acc: 0.8821 - val_loss: 0.3083 - val_acc: 0.8722\n",
      "Epoch 11/20\n",
      "1000/1000 [==============================] - 71s 71ms/step - loss: 0.2841 - acc: 0.8824 - val_loss: 0.3760 - val_acc: 0.8436\n",
      "Epoch 12/20\n",
      "1000/1000 [==============================] - 69s 69ms/step - loss: 0.2717 - acc: 0.8885 - val_loss: 0.3129 - val_acc: 0.8719\n",
      "Epoch 13/20\n",
      "1000/1000 [==============================] - 70s 70ms/step - loss: 0.2800 - acc: 0.8851 - val_loss: 0.3147 - val_acc: 0.8731\n",
      "Epoch 14/20\n",
      "1000/1000 [==============================] - 69s 69ms/step - loss: 0.2729 - acc: 0.8859 - val_loss: 0.3633 - val_acc: 0.8518\n",
      "Epoch 15/20\n",
      "1000/1000 [==============================] - 69s 69ms/step - loss: 0.2773 - acc: 0.8825 - val_loss: 0.3034 - val_acc: 0.8742\n",
      "Epoch 16/20\n",
      "1000/1000 [==============================] - 70s 70ms/step - loss: 0.2660 - acc: 0.8868 - val_loss: 0.3191 - val_acc: 0.8671\n",
      "Epoch 17/20\n",
      "1000/1000 [==============================] - 70s 70ms/step - loss: 0.2699 - acc: 0.8892 - val_loss: 0.3182 - val_acc: 0.8691\n",
      "Epoch 18/20\n",
      "1000/1000 [==============================] - 71s 71ms/step - loss: 0.2712 - acc: 0.8862 - val_loss: 0.3132 - val_acc: 0.8711\n",
      "Epoch 19/20\n",
      "1000/1000 [==============================] - 82s 82ms/step - loss: 0.2695 - acc: 0.8894 - val_loss: 0.3116 - val_acc: 0.8716\n",
      "Epoch 20/20\n",
      "1000/1000 [==============================] - 68s 68ms/step - loss: 0.2688 - acc: 0.8902 - val_loss: 0.3278 - val_acc: 0.8654\n"
     ]
    }
   ],
   "source": [
    "# Training for 20 epochs 1000 s\n",
    "history7 = model.fit_generator(\n",
    "            train_generator,\n",
    "            steps_per_epoch=1000,\n",
    "            epochs=20,\n",
    "            validation_data=validation_generator,\n",
    "            validation_steps=1000)"
   ]
  },
  {
   "cell_type": "code",
   "execution_count": 47,
   "metadata": {
    "scrolled": true
   },
   "outputs": [
    {
     "data": {
      "image/png": "[encoded data removed]",
      "text/plain": [
       "<Figure size 432x288 with 1 Axes>"
      ]
     },
     "metadata": {
      "needs_background": "light"
     },
     "output_type": "display_data"
    },
    {
     "data": {
      "image/png": "[encoded data removed]",
      "text/plain": [
       "<Figure size 432x288 with 1 Axes>"
      ]
     },
     "metadata": {
      "needs_background": "light"
     },
     "output_type": "display_data"
    }
   ],
   "source": [
    "import matplotlib.pyplot as plt\n",
    "acc = history7.history['acc']\n",
    "val_acc = history7.history['val_acc']\n",
    "loss = history7.history['loss']\n",
    "val_loss = history7.history['val_loss']\n",
    "epochs = range(1, len(acc) + 1)\n",
    "plt.plot(epochs, acc, 'bo', label='Training acc')\n",
    "plt.plot(epochs, val_acc, 'b', label='Validation acc')\n",
    "plt.title('Training and validation accuracy')\n",
    "plt.legend()\n",
    "plt.figure()\n",
    "plt.plot(epochs, loss, 'bo', label='Training loss')\n",
    "plt.plot(epochs, val_loss, 'b', label='Validation loss')\n",
    "plt.title('Training and validation loss')\n",
    "plt.legend()\n",
    "plt.show()"
   ]
  },
  {
   "cell_type": "markdown",
   "metadata": {},
   "source": [
    "NOW TRYING 15 EPOCHS AND 1500 STEPS"
   ]
  },
  {
   "cell_type": "code",
   "execution_count": 48,
   "metadata": {
    "scrolled": false
   },
   "outputs": [
    {
     "name": "stdout",
     "output_type": "stream",
     "text": [
      "Epoch 1/15\n",
      "1500/1500 [==============================] - 105s 70ms/step - loss: 0.2644 - acc: 0.8910 - val_loss: 0.3134 - val_acc: 0.8736\n",
      "Epoch 2/15\n",
      "1500/1500 [==============================] - 105s 70ms/step - loss: 0.2623 - acc: 0.8922 - val_loss: 0.3258 - val_acc: 0.8688\n",
      "Epoch 3/15\n",
      "1500/1500 [==============================] - 103s 68ms/step - loss: 0.2654 - acc: 0.8923 - val_loss: 0.3288 - val_acc: 0.8635\n",
      "Epoch 4/15\n",
      "1500/1500 [==============================] - 103s 69ms/step - loss: 0.2625 - acc: 0.8906 - val_loss: 0.3471 - val_acc: 0.8543\n",
      "Epoch 5/15\n",
      "1500/1500 [==============================] - 103s 68ms/step - loss: 0.2653 - acc: 0.8916 - val_loss: 0.3503 - val_acc: 0.8617\n",
      "Epoch 6/15\n",
      "1500/1500 [==============================] - 112s 74ms/step - loss: 0.2595 - acc: 0.8929 - val_loss: 0.3273 - val_acc: 0.8693\n",
      "Epoch 7/15\n",
      "1500/1500 [==============================] - 103s 69ms/step - loss: 0.2570 - acc: 0.8939 - val_loss: 0.3300 - val_acc: 0.8654\n",
      "Epoch 8/15\n",
      "1500/1500 [==============================] - 108s 72ms/step - loss: 0.2523 - acc: 0.8976 - val_loss: 0.3264 - val_acc: 0.8654\n",
      "Epoch 9/15\n",
      "1500/1500 [==============================] - 116s 78ms/step - loss: 0.2536 - acc: 0.8943 - val_loss: 0.3178 - val_acc: 0.8679\n",
      "Epoch 10/15\n",
      "1500/1500 [==============================] - 114s 76ms/step - loss: 0.2548 - acc: 0.8954 - val_loss: 0.3120 - val_acc: 0.8727\n",
      "Epoch 11/15\n",
      "1500/1500 [==============================] - 114s 76ms/step - loss: 0.2466 - acc: 0.8997 - val_loss: 0.2965 - val_acc: 0.8778\n",
      "Epoch 12/15\n",
      "1500/1500 [==============================] - 110s 74ms/step - loss: 0.2411 - acc: 0.9011 - val_loss: 0.3099 - val_acc: 0.8762\n",
      "Epoch 13/15\n",
      "1500/1500 [==============================] - 105s 70ms/step - loss: 0.2472 - acc: 0.8995 - val_loss: 0.3139 - val_acc: 0.8730\n",
      "Epoch 14/15\n",
      "1500/1500 [==============================] - 104s 70ms/step - loss: 0.2389 - acc: 0.9012 - val_loss: 0.3074 - val_acc: 0.8712\n",
      "Epoch 15/15\n",
      "1500/1500 [==============================] - 105s 70ms/step - loss: 0.2413 - acc: 0.9026 - val_loss: 0.3080 - val_acc: 0.8748\n"
     ]
    }
   ],
   "source": [
    "# Training for 15 epochs 1500 s\n",
    "history8 = model.fit_generator(\n",
    "            train_generator,\n",
    "            steps_per_epoch=1500,\n",
    "            epochs=15,\n",
    "            validation_data=validation_generator,\n",
    "            validation_steps=1500)"
   ]
  },
  {
   "cell_type": "code",
   "execution_count": 49,
   "metadata": {
    "scrolled": false
   },
   "outputs": [
    {
     "data": {
      "image/png": "[encoded data removed]",
      "text/plain": [
       "<Figure size 432x288 with 1 Axes>"
      ]
     },
     "metadata": {
      "needs_background": "light"
     },
     "output_type": "display_data"
    },
    {
     "data": {
      "image/png": "[encoded data removed]",
      "text/plain": [
       "<Figure size 432x288 with 1 Axes>"
      ]
     },
     "metadata": {
      "needs_background": "light"
     },
     "output_type": "display_data"
    }
   ],
   "source": [
    "import matplotlib.pyplot as plt\n",
    "acc = history8.history['acc']\n",
    "val_acc = history8.history['val_acc']\n",
    "loss = history8.history['loss']\n",
    "val_loss = history8.history['val_loss']\n",
    "epochs = range(1, len(acc) + 1)\n",
    "plt.plot(epochs, acc, 'bo', label='Training acc')\n",
    "plt.plot(epochs, val_acc, 'b', label='Validation acc')\n",
    "plt.title('Training and validation accuracy')\n",
    "plt.legend()\n",
    "plt.figure()\n",
    "plt.plot(epochs, loss, 'bo', label='Training loss')\n",
    "plt.plot(epochs, val_loss, 'b', label='Validation loss')\n",
    "plt.title('Training and validation loss')\n",
    "plt.legend()\n",
    "plt.show()"
   ]
  },
  {
   "cell_type": "markdown",
   "metadata": {},
   "source": [
    "# THIS IS THE BEST RESULT OF 90% ACCURACY WITH 50 EPOCHS AND 1500 STEPS MODEL1 AND NADAM"
   ]
  },
  {
   "cell_type": "markdown",
   "metadata": {},
   "source": [
    "SAVE THE BEST MODEL IN YOUR SYSTEM TO USE IT FURTHER TO TRAIN YOUR DATA"
   ]
  },
  {
   "cell_type": "code",
   "execution_count": 70,
   "metadata": {},
   "outputs": [],
   "source": [
    "# Saving the best model\n",
    "model.save('tumor_and_nontumor.Best.h5')"
   ]
  },
  {
   "cell_type": "markdown",
   "metadata": {},
   "source": [
    "# Predicting on test dataset using the model trained above is mentioned in other file"
   ]
  }
 ],
 "metadata": {
  "kernelspec": {
   "display_name": "Python 3",
   "language": "python",
   "name": "python3"
  },
  "language_info": {
   "codemirror_mode": {
    "name": "ipython",
    "version": 3
   },
   "file_extension": ".py",
   "mimetype": "text/x-python",
   "name": "python",
   "nbconvert_exporter": "python",
   "pygments_lexer": "ipython3",
   "version": "3.8.5"
  }
 },
 "nbformat": 4,
 "nbformat_minor": 4
}
